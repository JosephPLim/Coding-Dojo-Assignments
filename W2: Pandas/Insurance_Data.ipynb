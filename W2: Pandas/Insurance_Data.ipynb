{
  "nbformat": 4,
  "nbformat_minor": 0,
  "metadata": {
    "colab": {
      "provenance": []
    },
    "kernelspec": {
      "name": "python3",
      "display_name": "Python 3"
    },
    "language_info": {
      "name": "python"
    }
  },
  "cells": [
    {
      "cell_type": "markdown",
      "source": [
        "# Insurance Data Starter Notebook"
      ],
      "metadata": {
        "id": "T1IcDyUABf4J"
      }
    },
    {
      "cell_type": "markdown",
      "source": [
        "Student Name:  Joseph Lim"
      ],
      "metadata": {
        "id": "pXugLG77Vxkn"
      }
    },
    {
      "cell_type": "markdown",
      "source": [
        "## Table of Contents\n",
        "\n",
        "\n",
        "This notebook will be used for 4 practice assignments:\n",
        "- [📝 Loading Data (Practice)](#loading)\n",
        "- [📝 Slicing (Practice)](#slicing)\n",
        "- [📝 Filtering (Practice)](#filtering)\n",
        "\n",
        "\n",
        "Click on the assignment names above to jump to the corresponding headers on Google Colab.  \n",
        "\n",
        "\n",
        "\n",
        "___\n"
      ],
      "metadata": {
        "id": "mE0YWDwKB2NO"
      }
    },
    {
      "cell_type": "markdown",
      "source": [
        "\n",
        "\n",
        "Note that:\n",
        "  - The first assignment (Loading Data) must be completed before the other three assignments may be completed.\n",
        "\n",
        "  - We recommend you do each of the remaining sections as you encounter them on the Learning Platform.\n"
      ],
      "metadata": {
        "id": "PqcysCiiEAyV"
      }
    },
    {
      "cell_type": "markdown",
      "source": [
        "<a name=\"loading\"> </a>\n",
        "# 📝 Loading Data (Practice)"
      ],
      "metadata": {
        "id": "UjugclH4W23V"
      }
    },
    {
      "cell_type": "markdown",
      "source": [
        "[Insurance Data](https://drive.google.com/file/d/1-7mcBguuzAV7JWVu2XCpgAO-fO6X2cl0/view?usp=sharing)"
      ],
      "metadata": {
        "id": "qDgRQYxzoBar"
      }
    },
    {
      "cell_type": "markdown",
      "source": [
        "1) Open the link and save the shared file to your Drive in the week 2 data folder.\n",
        "\n",
        "2) Mount your drive\n",
        "\n",
        "3) Find and copy the file path of the insurance_mod.csv file"
      ],
      "metadata": {
        "id": "aLWFGWLmiXIr"
      }
    },
    {
      "cell_type": "code",
      "source": [
        "#Mounting Drive\n",
        "from google.colab import drive\n",
        "drive.mount('/content/drive/')"
      ],
      "metadata": {
        "colab": {
          "base_uri": "https://localhost:8080/"
        },
        "id": "3-92gLTPaady",
        "outputId": "82c31386-184b-442d-a95e-26472aacccfb"
      },
      "execution_count": 8,
      "outputs": [
        {
          "output_type": "stream",
          "name": "stdout",
          "text": [
            "Mounted at /content/drive/\n"
          ]
        }
      ]
    },
    {
      "cell_type": "code",
      "source": [
        "# Save the copied file path as a variable\n",
        "# Surround the path with quotes\n",
        "filepath = \"/content/drive/MyDrive/Colab Notebooks/Fundamentals: 1/insurance_mod.csv\""
      ],
      "metadata": {
        "id": "B4Nd1f22inKI"
      },
      "execution_count": 9,
      "outputs": []
    },
    {
      "cell_type": "markdown",
      "source": [
        "4) Load in the file as a Pandas dataframe named df_insurance\n"
      ],
      "metadata": {
        "id": "CL9KQmTNivB_"
      }
    },
    {
      "cell_type": "code",
      "execution_count": 10,
      "metadata": {
        "id": "77yF6E-tVrN0"
      },
      "outputs": [],
      "source": [
        "# Include needed import(s)\n",
        "import pandas as pd\n",
        "import numpy as np\n",
        "\n",
        "# Load in the file as a Pandas dataframe named df_insurance\n",
        "df_insurance = pd.read_csv(filepath)"
      ]
    },
    {
      "cell_type": "markdown",
      "source": [
        "5) Preview the first 5 rows with .head()\n",
        "\n"
      ],
      "metadata": {
        "id": "xJ5WlpgdjWlU"
      }
    },
    {
      "cell_type": "code",
      "source": [
        "# Preview the first 5 rows with .head()\n",
        "df_insurance.head()"
      ],
      "metadata": {
        "id": "rvhk1biKjWFQ",
        "colab": {
          "base_uri": "https://localhost:8080/",
          "height": 206
        },
        "outputId": "a3a8f4bd-a900-4c42-d5cf-563bda77ff3b"
      },
      "execution_count": 11,
      "outputs": [
        {
          "output_type": "execute_result",
          "data": {
            "text/plain": [
              "   age     sex     bmi  children  smoker     region  charges\n",
              "0   19  female  27.900         0       1  southwest  16885.0\n",
              "1   18    male  33.770         1       0  southeast   1726.0\n",
              "2   28    male  33.000         3       0  southeast   4449.0\n",
              "3   33    male  22.705         0       0  northwest  21984.0\n",
              "4   32    male  28.880         0       0  northwest   3867.0"
            ],
            "text/html": [
              "\n",
              "\n",
              "  <div id=\"df-ed876b4b-1f89-405b-86bf-bfe6410e63a7\">\n",
              "    <div class=\"colab-df-container\">\n",
              "      <div>\n",
              "<style scoped>\n",
              "    .dataframe tbody tr th:only-of-type {\n",
              "        vertical-align: middle;\n",
              "    }\n",
              "\n",
              "    .dataframe tbody tr th {\n",
              "        vertical-align: top;\n",
              "    }\n",
              "\n",
              "    .dataframe thead th {\n",
              "        text-align: right;\n",
              "    }\n",
              "</style>\n",
              "<table border=\"1\" class=\"dataframe\">\n",
              "  <thead>\n",
              "    <tr style=\"text-align: right;\">\n",
              "      <th></th>\n",
              "      <th>age</th>\n",
              "      <th>sex</th>\n",
              "      <th>bmi</th>\n",
              "      <th>children</th>\n",
              "      <th>smoker</th>\n",
              "      <th>region</th>\n",
              "      <th>charges</th>\n",
              "    </tr>\n",
              "  </thead>\n",
              "  <tbody>\n",
              "    <tr>\n",
              "      <th>0</th>\n",
              "      <td>19</td>\n",
              "      <td>female</td>\n",
              "      <td>27.900</td>\n",
              "      <td>0</td>\n",
              "      <td>1</td>\n",
              "      <td>southwest</td>\n",
              "      <td>16885.0</td>\n",
              "    </tr>\n",
              "    <tr>\n",
              "      <th>1</th>\n",
              "      <td>18</td>\n",
              "      <td>male</td>\n",
              "      <td>33.770</td>\n",
              "      <td>1</td>\n",
              "      <td>0</td>\n",
              "      <td>southeast</td>\n",
              "      <td>1726.0</td>\n",
              "    </tr>\n",
              "    <tr>\n",
              "      <th>2</th>\n",
              "      <td>28</td>\n",
              "      <td>male</td>\n",
              "      <td>33.000</td>\n",
              "      <td>3</td>\n",
              "      <td>0</td>\n",
              "      <td>southeast</td>\n",
              "      <td>4449.0</td>\n",
              "    </tr>\n",
              "    <tr>\n",
              "      <th>3</th>\n",
              "      <td>33</td>\n",
              "      <td>male</td>\n",
              "      <td>22.705</td>\n",
              "      <td>0</td>\n",
              "      <td>0</td>\n",
              "      <td>northwest</td>\n",
              "      <td>21984.0</td>\n",
              "    </tr>\n",
              "    <tr>\n",
              "      <th>4</th>\n",
              "      <td>32</td>\n",
              "      <td>male</td>\n",
              "      <td>28.880</td>\n",
              "      <td>0</td>\n",
              "      <td>0</td>\n",
              "      <td>northwest</td>\n",
              "      <td>3867.0</td>\n",
              "    </tr>\n",
              "  </tbody>\n",
              "</table>\n",
              "</div>\n",
              "      <button class=\"colab-df-convert\" onclick=\"convertToInteractive('df-ed876b4b-1f89-405b-86bf-bfe6410e63a7')\"\n",
              "              title=\"Convert this dataframe to an interactive table.\"\n",
              "              style=\"display:none;\">\n",
              "\n",
              "  <svg xmlns=\"http://www.w3.org/2000/svg\" height=\"24px\"viewBox=\"0 0 24 24\"\n",
              "       width=\"24px\">\n",
              "    <path d=\"M0 0h24v24H0V0z\" fill=\"none\"/>\n",
              "    <path d=\"M18.56 5.44l.94 2.06.94-2.06 2.06-.94-2.06-.94-.94-2.06-.94 2.06-2.06.94zm-11 1L8.5 8.5l.94-2.06 2.06-.94-2.06-.94L8.5 2.5l-.94 2.06-2.06.94zm10 10l.94 2.06.94-2.06 2.06-.94-2.06-.94-.94-2.06-.94 2.06-2.06.94z\"/><path d=\"M17.41 7.96l-1.37-1.37c-.4-.4-.92-.59-1.43-.59-.52 0-1.04.2-1.43.59L10.3 9.45l-7.72 7.72c-.78.78-.78 2.05 0 2.83L4 21.41c.39.39.9.59 1.41.59.51 0 1.02-.2 1.41-.59l7.78-7.78 2.81-2.81c.8-.78.8-2.07 0-2.86zM5.41 20L4 18.59l7.72-7.72 1.47 1.35L5.41 20z\"/>\n",
              "  </svg>\n",
              "      </button>\n",
              "\n",
              "\n",
              "\n",
              "    <div id=\"df-56ea6347-4a73-4a4f-b77f-bbd692b22731\">\n",
              "      <button class=\"colab-df-quickchart\" onclick=\"quickchart('df-56ea6347-4a73-4a4f-b77f-bbd692b22731')\"\n",
              "              title=\"Suggest charts.\"\n",
              "              style=\"display:none;\">\n",
              "\n",
              "<svg xmlns=\"http://www.w3.org/2000/svg\" height=\"24px\"viewBox=\"0 0 24 24\"\n",
              "     width=\"24px\">\n",
              "    <g>\n",
              "        <path d=\"M19 3H5c-1.1 0-2 .9-2 2v14c0 1.1.9 2 2 2h14c1.1 0 2-.9 2-2V5c0-1.1-.9-2-2-2zM9 17H7v-7h2v7zm4 0h-2V7h2v10zm4 0h-2v-4h2v4z\"/>\n",
              "    </g>\n",
              "</svg>\n",
              "      </button>\n",
              "    </div>\n",
              "\n",
              "<style>\n",
              "  .colab-df-quickchart {\n",
              "    background-color: #E8F0FE;\n",
              "    border: none;\n",
              "    border-radius: 50%;\n",
              "    cursor: pointer;\n",
              "    display: none;\n",
              "    fill: #1967D2;\n",
              "    height: 32px;\n",
              "    padding: 0 0 0 0;\n",
              "    width: 32px;\n",
              "  }\n",
              "\n",
              "  .colab-df-quickchart:hover {\n",
              "    background-color: #E2EBFA;\n",
              "    box-shadow: 0px 1px 2px rgba(60, 64, 67, 0.3), 0px 1px 3px 1px rgba(60, 64, 67, 0.15);\n",
              "    fill: #174EA6;\n",
              "  }\n",
              "\n",
              "  [theme=dark] .colab-df-quickchart {\n",
              "    background-color: #3B4455;\n",
              "    fill: #D2E3FC;\n",
              "  }\n",
              "\n",
              "  [theme=dark] .colab-df-quickchart:hover {\n",
              "    background-color: #434B5C;\n",
              "    box-shadow: 0px 1px 3px 1px rgba(0, 0, 0, 0.15);\n",
              "    filter: drop-shadow(0px 1px 2px rgba(0, 0, 0, 0.3));\n",
              "    fill: #FFFFFF;\n",
              "  }\n",
              "</style>\n",
              "\n",
              "    <script>\n",
              "      async function quickchart(key) {\n",
              "        const containerElement = document.querySelector('#' + key);\n",
              "        const charts = await google.colab.kernel.invokeFunction(\n",
              "            'suggestCharts', [key], {});\n",
              "      }\n",
              "    </script>\n",
              "\n",
              "      <script>\n",
              "\n",
              "function displayQuickchartButton(domScope) {\n",
              "  let quickchartButtonEl =\n",
              "    domScope.querySelector('#df-56ea6347-4a73-4a4f-b77f-bbd692b22731 button.colab-df-quickchart');\n",
              "  quickchartButtonEl.style.display =\n",
              "    google.colab.kernel.accessAllowed ? 'block' : 'none';\n",
              "}\n",
              "\n",
              "        displayQuickchartButton(document);\n",
              "      </script>\n",
              "      <style>\n",
              "    .colab-df-container {\n",
              "      display:flex;\n",
              "      flex-wrap:wrap;\n",
              "      gap: 12px;\n",
              "    }\n",
              "\n",
              "    .colab-df-convert {\n",
              "      background-color: #E8F0FE;\n",
              "      border: none;\n",
              "      border-radius: 50%;\n",
              "      cursor: pointer;\n",
              "      display: none;\n",
              "      fill: #1967D2;\n",
              "      height: 32px;\n",
              "      padding: 0 0 0 0;\n",
              "      width: 32px;\n",
              "    }\n",
              "\n",
              "    .colab-df-convert:hover {\n",
              "      background-color: #E2EBFA;\n",
              "      box-shadow: 0px 1px 2px rgba(60, 64, 67, 0.3), 0px 1px 3px 1px rgba(60, 64, 67, 0.15);\n",
              "      fill: #174EA6;\n",
              "    }\n",
              "\n",
              "    [theme=dark] .colab-df-convert {\n",
              "      background-color: #3B4455;\n",
              "      fill: #D2E3FC;\n",
              "    }\n",
              "\n",
              "    [theme=dark] .colab-df-convert:hover {\n",
              "      background-color: #434B5C;\n",
              "      box-shadow: 0px 1px 3px 1px rgba(0, 0, 0, 0.15);\n",
              "      filter: drop-shadow(0px 1px 2px rgba(0, 0, 0, 0.3));\n",
              "      fill: #FFFFFF;\n",
              "    }\n",
              "  </style>\n",
              "\n",
              "      <script>\n",
              "        const buttonEl =\n",
              "          document.querySelector('#df-ed876b4b-1f89-405b-86bf-bfe6410e63a7 button.colab-df-convert');\n",
              "        buttonEl.style.display =\n",
              "          google.colab.kernel.accessAllowed ? 'block' : 'none';\n",
              "\n",
              "        async function convertToInteractive(key) {\n",
              "          const element = document.querySelector('#df-ed876b4b-1f89-405b-86bf-bfe6410e63a7');\n",
              "          const dataTable =\n",
              "            await google.colab.kernel.invokeFunction('convertToInteractive',\n",
              "                                                     [key], {});\n",
              "          if (!dataTable) return;\n",
              "\n",
              "          const docLinkHtml = 'Like what you see? Visit the ' +\n",
              "            '<a target=\"_blank\" href=https://colab.research.google.com/notebooks/data_table.ipynb>data table notebook</a>'\n",
              "            + ' to learn more about interactive tables.';\n",
              "          element.innerHTML = '';\n",
              "          dataTable['output_type'] = 'display_data';\n",
              "          await google.colab.output.renderOutput(dataTable, element);\n",
              "          const docLink = document.createElement('div');\n",
              "          docLink.innerHTML = docLinkHtml;\n",
              "          element.appendChild(docLink);\n",
              "        }\n",
              "      </script>\n",
              "    </div>\n",
              "  </div>\n"
            ]
          },
          "metadata": {},
          "execution_count": 11
        }
      ]
    },
    {
      "cell_type": "markdown",
      "source": [
        "6) Preview the last 5 rows with .tail()"
      ],
      "metadata": {
        "id": "QZ76WUV5jYA_"
      }
    },
    {
      "cell_type": "code",
      "source": [
        "# Preview the last 5 rows with .tail()\n",
        "df_insurance.tail()"
      ],
      "metadata": {
        "id": "WnaNdM9yV74Q",
        "colab": {
          "base_uri": "https://localhost:8080/",
          "height": 206
        },
        "outputId": "af15d774-e5e2-4979-9634-118a736534d1"
      },
      "execution_count": 12,
      "outputs": [
        {
          "output_type": "execute_result",
          "data": {
            "text/plain": [
              "      age     sex    bmi  children  smoker     region  charges\n",
              "1333   50    male  30.97         3       0  northwest  10601.0\n",
              "1334   18  female  31.92         0       0  northeast   2206.0\n",
              "1335   18  female  36.85         0       0  southeast   1630.0\n",
              "1336   21  female  25.80         0       0  southwest   2008.0\n",
              "1337   61  female  29.07         0       1  northwest  29141.0"
            ],
            "text/html": [
              "\n",
              "\n",
              "  <div id=\"df-ebece7bf-d4ae-41fc-8e83-ce6450745be5\">\n",
              "    <div class=\"colab-df-container\">\n",
              "      <div>\n",
              "<style scoped>\n",
              "    .dataframe tbody tr th:only-of-type {\n",
              "        vertical-align: middle;\n",
              "    }\n",
              "\n",
              "    .dataframe tbody tr th {\n",
              "        vertical-align: top;\n",
              "    }\n",
              "\n",
              "    .dataframe thead th {\n",
              "        text-align: right;\n",
              "    }\n",
              "</style>\n",
              "<table border=\"1\" class=\"dataframe\">\n",
              "  <thead>\n",
              "    <tr style=\"text-align: right;\">\n",
              "      <th></th>\n",
              "      <th>age</th>\n",
              "      <th>sex</th>\n",
              "      <th>bmi</th>\n",
              "      <th>children</th>\n",
              "      <th>smoker</th>\n",
              "      <th>region</th>\n",
              "      <th>charges</th>\n",
              "    </tr>\n",
              "  </thead>\n",
              "  <tbody>\n",
              "    <tr>\n",
              "      <th>1333</th>\n",
              "      <td>50</td>\n",
              "      <td>male</td>\n",
              "      <td>30.97</td>\n",
              "      <td>3</td>\n",
              "      <td>0</td>\n",
              "      <td>northwest</td>\n",
              "      <td>10601.0</td>\n",
              "    </tr>\n",
              "    <tr>\n",
              "      <th>1334</th>\n",
              "      <td>18</td>\n",
              "      <td>female</td>\n",
              "      <td>31.92</td>\n",
              "      <td>0</td>\n",
              "      <td>0</td>\n",
              "      <td>northeast</td>\n",
              "      <td>2206.0</td>\n",
              "    </tr>\n",
              "    <tr>\n",
              "      <th>1335</th>\n",
              "      <td>18</td>\n",
              "      <td>female</td>\n",
              "      <td>36.85</td>\n",
              "      <td>0</td>\n",
              "      <td>0</td>\n",
              "      <td>southeast</td>\n",
              "      <td>1630.0</td>\n",
              "    </tr>\n",
              "    <tr>\n",
              "      <th>1336</th>\n",
              "      <td>21</td>\n",
              "      <td>female</td>\n",
              "      <td>25.80</td>\n",
              "      <td>0</td>\n",
              "      <td>0</td>\n",
              "      <td>southwest</td>\n",
              "      <td>2008.0</td>\n",
              "    </tr>\n",
              "    <tr>\n",
              "      <th>1337</th>\n",
              "      <td>61</td>\n",
              "      <td>female</td>\n",
              "      <td>29.07</td>\n",
              "      <td>0</td>\n",
              "      <td>1</td>\n",
              "      <td>northwest</td>\n",
              "      <td>29141.0</td>\n",
              "    </tr>\n",
              "  </tbody>\n",
              "</table>\n",
              "</div>\n",
              "      <button class=\"colab-df-convert\" onclick=\"convertToInteractive('df-ebece7bf-d4ae-41fc-8e83-ce6450745be5')\"\n",
              "              title=\"Convert this dataframe to an interactive table.\"\n",
              "              style=\"display:none;\">\n",
              "\n",
              "  <svg xmlns=\"http://www.w3.org/2000/svg\" height=\"24px\"viewBox=\"0 0 24 24\"\n",
              "       width=\"24px\">\n",
              "    <path d=\"M0 0h24v24H0V0z\" fill=\"none\"/>\n",
              "    <path d=\"M18.56 5.44l.94 2.06.94-2.06 2.06-.94-2.06-.94-.94-2.06-.94 2.06-2.06.94zm-11 1L8.5 8.5l.94-2.06 2.06-.94-2.06-.94L8.5 2.5l-.94 2.06-2.06.94zm10 10l.94 2.06.94-2.06 2.06-.94-2.06-.94-.94-2.06-.94 2.06-2.06.94z\"/><path d=\"M17.41 7.96l-1.37-1.37c-.4-.4-.92-.59-1.43-.59-.52 0-1.04.2-1.43.59L10.3 9.45l-7.72 7.72c-.78.78-.78 2.05 0 2.83L4 21.41c.39.39.9.59 1.41.59.51 0 1.02-.2 1.41-.59l7.78-7.78 2.81-2.81c.8-.78.8-2.07 0-2.86zM5.41 20L4 18.59l7.72-7.72 1.47 1.35L5.41 20z\"/>\n",
              "  </svg>\n",
              "      </button>\n",
              "\n",
              "\n",
              "\n",
              "    <div id=\"df-f9f45c36-5f77-40e4-8b54-c1b767da974f\">\n",
              "      <button class=\"colab-df-quickchart\" onclick=\"quickchart('df-f9f45c36-5f77-40e4-8b54-c1b767da974f')\"\n",
              "              title=\"Suggest charts.\"\n",
              "              style=\"display:none;\">\n",
              "\n",
              "<svg xmlns=\"http://www.w3.org/2000/svg\" height=\"24px\"viewBox=\"0 0 24 24\"\n",
              "     width=\"24px\">\n",
              "    <g>\n",
              "        <path d=\"M19 3H5c-1.1 0-2 .9-2 2v14c0 1.1.9 2 2 2h14c1.1 0 2-.9 2-2V5c0-1.1-.9-2-2-2zM9 17H7v-7h2v7zm4 0h-2V7h2v10zm4 0h-2v-4h2v4z\"/>\n",
              "    </g>\n",
              "</svg>\n",
              "      </button>\n",
              "    </div>\n",
              "\n",
              "<style>\n",
              "  .colab-df-quickchart {\n",
              "    background-color: #E8F0FE;\n",
              "    border: none;\n",
              "    border-radius: 50%;\n",
              "    cursor: pointer;\n",
              "    display: none;\n",
              "    fill: #1967D2;\n",
              "    height: 32px;\n",
              "    padding: 0 0 0 0;\n",
              "    width: 32px;\n",
              "  }\n",
              "\n",
              "  .colab-df-quickchart:hover {\n",
              "    background-color: #E2EBFA;\n",
              "    box-shadow: 0px 1px 2px rgba(60, 64, 67, 0.3), 0px 1px 3px 1px rgba(60, 64, 67, 0.15);\n",
              "    fill: #174EA6;\n",
              "  }\n",
              "\n",
              "  [theme=dark] .colab-df-quickchart {\n",
              "    background-color: #3B4455;\n",
              "    fill: #D2E3FC;\n",
              "  }\n",
              "\n",
              "  [theme=dark] .colab-df-quickchart:hover {\n",
              "    background-color: #434B5C;\n",
              "    box-shadow: 0px 1px 3px 1px rgba(0, 0, 0, 0.15);\n",
              "    filter: drop-shadow(0px 1px 2px rgba(0, 0, 0, 0.3));\n",
              "    fill: #FFFFFF;\n",
              "  }\n",
              "</style>\n",
              "\n",
              "    <script>\n",
              "      async function quickchart(key) {\n",
              "        const containerElement = document.querySelector('#' + key);\n",
              "        const charts = await google.colab.kernel.invokeFunction(\n",
              "            'suggestCharts', [key], {});\n",
              "      }\n",
              "    </script>\n",
              "\n",
              "      <script>\n",
              "\n",
              "function displayQuickchartButton(domScope) {\n",
              "  let quickchartButtonEl =\n",
              "    domScope.querySelector('#df-f9f45c36-5f77-40e4-8b54-c1b767da974f button.colab-df-quickchart');\n",
              "  quickchartButtonEl.style.display =\n",
              "    google.colab.kernel.accessAllowed ? 'block' : 'none';\n",
              "}\n",
              "\n",
              "        displayQuickchartButton(document);\n",
              "      </script>\n",
              "      <style>\n",
              "    .colab-df-container {\n",
              "      display:flex;\n",
              "      flex-wrap:wrap;\n",
              "      gap: 12px;\n",
              "    }\n",
              "\n",
              "    .colab-df-convert {\n",
              "      background-color: #E8F0FE;\n",
              "      border: none;\n",
              "      border-radius: 50%;\n",
              "      cursor: pointer;\n",
              "      display: none;\n",
              "      fill: #1967D2;\n",
              "      height: 32px;\n",
              "      padding: 0 0 0 0;\n",
              "      width: 32px;\n",
              "    }\n",
              "\n",
              "    .colab-df-convert:hover {\n",
              "      background-color: #E2EBFA;\n",
              "      box-shadow: 0px 1px 2px rgba(60, 64, 67, 0.3), 0px 1px 3px 1px rgba(60, 64, 67, 0.15);\n",
              "      fill: #174EA6;\n",
              "    }\n",
              "\n",
              "    [theme=dark] .colab-df-convert {\n",
              "      background-color: #3B4455;\n",
              "      fill: #D2E3FC;\n",
              "    }\n",
              "\n",
              "    [theme=dark] .colab-df-convert:hover {\n",
              "      background-color: #434B5C;\n",
              "      box-shadow: 0px 1px 3px 1px rgba(0, 0, 0, 0.15);\n",
              "      filter: drop-shadow(0px 1px 2px rgba(0, 0, 0, 0.3));\n",
              "      fill: #FFFFFF;\n",
              "    }\n",
              "  </style>\n",
              "\n",
              "      <script>\n",
              "        const buttonEl =\n",
              "          document.querySelector('#df-ebece7bf-d4ae-41fc-8e83-ce6450745be5 button.colab-df-convert');\n",
              "        buttonEl.style.display =\n",
              "          google.colab.kernel.accessAllowed ? 'block' : 'none';\n",
              "\n",
              "        async function convertToInteractive(key) {\n",
              "          const element = document.querySelector('#df-ebece7bf-d4ae-41fc-8e83-ce6450745be5');\n",
              "          const dataTable =\n",
              "            await google.colab.kernel.invokeFunction('convertToInteractive',\n",
              "                                                     [key], {});\n",
              "          if (!dataTable) return;\n",
              "\n",
              "          const docLinkHtml = 'Like what you see? Visit the ' +\n",
              "            '<a target=\"_blank\" href=https://colab.research.google.com/notebooks/data_table.ipynb>data table notebook</a>'\n",
              "            + ' to learn more about interactive tables.';\n",
              "          element.innerHTML = '';\n",
              "          dataTable['output_type'] = 'display_data';\n",
              "          await google.colab.output.renderOutput(dataTable, element);\n",
              "          const docLink = document.createElement('div');\n",
              "          docLink.innerHTML = docLinkHtml;\n",
              "          element.appendChild(docLink);\n",
              "        }\n",
              "      </script>\n",
              "    </div>\n",
              "  </div>\n"
            ]
          },
          "metadata": {},
          "execution_count": 12
        }
      ]
    },
    {
      "cell_type": "markdown",
      "source": [
        "7) Obtain summary information with .info()"
      ],
      "metadata": {
        "id": "FxsYQwwSjZ8r"
      }
    },
    {
      "cell_type": "code",
      "source": [
        "# Obtain summary information with .info()\n",
        "df_insurance.info()"
      ],
      "metadata": {
        "id": "xFiUrJu0WACB",
        "colab": {
          "base_uri": "https://localhost:8080/"
        },
        "outputId": "f8a9e70c-cbc0-412f-b914-5be1f41b44c4"
      },
      "execution_count": 13,
      "outputs": [
        {
          "output_type": "stream",
          "name": "stdout",
          "text": [
            "<class 'pandas.core.frame.DataFrame'>\n",
            "RangeIndex: 1338 entries, 0 to 1337\n",
            "Data columns (total 7 columns):\n",
            " #   Column    Non-Null Count  Dtype  \n",
            "---  ------    --------------  -----  \n",
            " 0   age       1338 non-null   int64  \n",
            " 1   sex       1338 non-null   object \n",
            " 2   bmi       1338 non-null   float64\n",
            " 3   children  1338 non-null   int64  \n",
            " 4   smoker    1338 non-null   int64  \n",
            " 5   region    1338 non-null   object \n",
            " 6   charges   1338 non-null   float64\n",
            "dtypes: float64(2), int64(3), object(2)\n",
            "memory usage: 73.3+ KB\n"
          ]
        }
      ]
    },
    {
      "cell_type": "markdown",
      "source": [
        "8) Use the output of .info() to answer the following in a text cell below:\n"
      ],
      "metadata": {
        "id": "798aLos2WJzK"
      }
    },
    {
      "cell_type": "markdown",
      "source": [
        "\n",
        "\n",
        "a) How many rows are there?\n",
        "\n",
        "- There are 1338 rows\n",
        "\n",
        "b) How many columns are there?\n",
        "\n",
        "- Answer: There are 7 columns"
      ],
      "metadata": {
        "id": "xWTIuXTzTj8x"
      }
    },
    {
      "cell_type": "markdown",
      "source": [
        "## You have completed the \"Loading Data\" Practice Assignment.\n"
      ],
      "metadata": {
        "id": "Gi_mvd9baMMB"
      }
    },
    {
      "cell_type": "markdown",
      "source": [
        "\n",
        "- 🛑 Stop here.\n",
        "\n",
        "- 💾 Save and submit this notebook now.\n",
        "\n",
        "- 📚 Continue working through the lessons.\n",
        "\n",
        "- ⏎ Return to your copy of this notebook for the next practice assignment.\n",
        "\n",
        "___\n"
      ],
      "metadata": {
        "id": "CzfZgH5FCV_p"
      }
    },
    {
      "cell_type": "markdown",
      "source": [
        "<a name=\"slicing\"> </a>\n",
        "# 📝 Slicing (Practice)\n"
      ],
      "metadata": {
        "id": "-0BYRDxkZ647"
      }
    },
    {
      "cell_type": "markdown",
      "source": [
        "1) Slice the row for the customer at index 50 as a Series"
      ],
      "metadata": {
        "id": "rnwxMuiFkC_E"
      }
    },
    {
      "cell_type": "code",
      "source": [
        "# Use single brackets so the output is a Pandas Series\n"
      ],
      "metadata": {
        "id": "YmIAIxXwatOw"
      },
      "execution_count": null,
      "outputs": []
    },
    {
      "cell_type": "markdown",
      "source": [
        "2) Slice the row for the customer at index 50 as a DataFrame"
      ],
      "metadata": {
        "id": "mOuJWr8CkFBC"
      }
    },
    {
      "cell_type": "code",
      "source": [
        "# Use double brackets so the output is a Pandas Dataframe\n"
      ],
      "metadata": {
        "id": "chdwrj7ma1II"
      },
      "execution_count": null,
      "outputs": []
    },
    {
      "cell_type": "markdown",
      "source": [
        "3) Find out if the customer at index 20 was a male or female (by slicing index 20 and column \"Sex\")"
      ],
      "metadata": {
        "id": "Mw0_dDHakG9Q"
      }
    },
    {
      "cell_type": "code",
      "source": [
        "# find out if the customer at index 20 was a male or female by slicing index 20 and column \"Sex\"\n"
      ],
      "metadata": {
        "id": "ezn_6d8pa3gc"
      },
      "execution_count": null,
      "outputs": []
    },
    {
      "cell_type": "markdown",
      "source": [
        "4) Slice the entire smoker column using square brackets\n"
      ],
      "metadata": {
        "id": "EXvN0rBKkJcV"
      }
    },
    {
      "cell_type": "code",
      "source": [
        "# Slice the entire smoker column using square brackets\n"
      ],
      "metadata": {
        "id": "WIcK2scJa7JX"
      },
      "execution_count": null,
      "outputs": []
    },
    {
      "cell_type": "markdown",
      "source": [
        "5) Slice the entire smoker column using .loc\n"
      ],
      "metadata": {
        "id": "-C4qqYeDkKsl"
      }
    },
    {
      "cell_type": "code",
      "source": [
        "# Slice the entire smoker column using .loc\n"
      ],
      "metadata": {
        "id": "MzzXeAkXa8Ef"
      },
      "execution_count": null,
      "outputs": []
    },
    {
      "cell_type": "markdown",
      "source": [
        "6) Slice the entire smoker column using either method, but this time save it as a variable called \"smoker\"\n"
      ],
      "metadata": {
        "id": "Jo74xe0YkMBu"
      }
    },
    {
      "cell_type": "code",
      "source": [
        "# Slice the entire smoker column using either method, but this time save it as a variable called \"smoker\"\n"
      ],
      "metadata": {
        "id": "VNe-_UlNa-MJ"
      },
      "execution_count": null,
      "outputs": []
    },
    {
      "cell_type": "markdown",
      "source": [
        "\n",
        "- Calculate the sum of the smoker variable to see how many of the customers smoke\n"
      ],
      "metadata": {
        "id": "YPFzfIG2T_cG"
      }
    },
    {
      "cell_type": "code",
      "source": [
        "# To see how many of the customers smoke, get the sum\n"
      ],
      "metadata": {
        "id": "sA5h3uQtbA0R"
      },
      "execution_count": null,
      "outputs": []
    },
    {
      "cell_type": "markdown",
      "source": [
        "\n",
        "- Calculate the mean of the smoker variable using .mean() to see the ratio of smokers in the dataset\n"
      ],
      "metadata": {
        "id": "chMBAVijUC5u"
      }
    },
    {
      "cell_type": "code",
      "source": [
        "# To get the ratio use .mean()\n"
      ],
      "metadata": {
        "id": "dP66L49-bDvK"
      },
      "execution_count": null,
      "outputs": []
    },
    {
      "cell_type": "markdown",
      "source": [
        "## You have completed the \"Slicing Data\" Practice Assignment.\n"
      ],
      "metadata": {
        "id": "g1SxhQQlbH3G"
      }
    },
    {
      "cell_type": "markdown",
      "source": [
        "\n",
        "- 🛑 Stop here.\n",
        "\n",
        "- 💾 Save and submit this notebook now.\n",
        "\n",
        "- 📚 Continue working through the lessons.\n",
        "\n",
        "- ⏎ Return to your copy of this notebook for the next practice assignment.\n",
        "\n",
        "___\n"
      ],
      "metadata": {
        "id": "H2My6yS-CqDn"
      }
    },
    {
      "cell_type": "markdown",
      "source": [
        "<a name=\"filtering\"> </a>\n",
        "# 📝 Filtering (Practice)"
      ],
      "metadata": {
        "id": "1kZSt4JBbUvJ"
      }
    },
    {
      "cell_type": "markdown",
      "source": [
        "1) Create a filter variable called under_30_filter for rows where the age is less than 30\n",
        "\n"
      ],
      "metadata": {
        "id": "ETcSxqoHkS7J"
      }
    },
    {
      "cell_type": "code",
      "source": [
        "# Create a filter called under_30_filter for the rows where the age is less than 30\n"
      ],
      "metadata": {
        "id": "8EksQ1JqbaZe"
      },
      "execution_count": null,
      "outputs": []
    },
    {
      "cell_type": "code",
      "source": [
        "# View the under_30_filter to see the boolean index\n"
      ],
      "metadata": {
        "id": "ELLpUQyJbbXV"
      },
      "execution_count": null,
      "outputs": []
    },
    {
      "cell_type": "code",
      "source": [
        "# Get the sum of the true values for the under_30_filter\n",
        "# This is the number of customers who are under the age of 30\n"
      ],
      "metadata": {
        "id": "-Fr6jUXybdor"
      },
      "execution_count": null,
      "outputs": []
    },
    {
      "cell_type": "code",
      "source": [
        "# # Use the filter to view only rows with customers who are under 30\n"
      ],
      "metadata": {
        "id": "XJjOoY7Vbh48"
      },
      "execution_count": null,
      "outputs": []
    },
    {
      "cell_type": "markdown",
      "source": [
        "2) Create a filter for males"
      ],
      "metadata": {
        "id": "i3PbBi4ukWbP"
      }
    },
    {
      "cell_type": "code",
      "source": [
        "# Create a filter for males called male_filter\n"
      ],
      "metadata": {
        "id": "s1wh8K3MblUl"
      },
      "execution_count": null,
      "outputs": []
    },
    {
      "cell_type": "code",
      "source": [
        "# View the filter to see the boolean index\n"
      ],
      "metadata": {
        "id": "iNKD4dS9bnHc"
      },
      "execution_count": null,
      "outputs": []
    },
    {
      "cell_type": "code",
      "source": [
        "# Obtain the sum of True values in the male_filter\n",
        "# This is the number of customers who are male\n"
      ],
      "metadata": {
        "id": "HElHAEdebo80"
      },
      "execution_count": null,
      "outputs": []
    },
    {
      "cell_type": "code",
      "source": [
        "# Use the filter to view only rows with customers who are male\n"
      ],
      "metadata": {
        "id": "3uRQf_x0bq0-"
      },
      "execution_count": null,
      "outputs": []
    },
    {
      "cell_type": "markdown",
      "source": [
        "3) Combine the under_30_filter and the male_filter to create a single filter called under_30_male_filter"
      ],
      "metadata": {
        "id": "3xvUrbGQkYhj"
      }
    },
    {
      "cell_type": "code",
      "source": [
        "# Combine the under_30_filter and the male_filter to create a single filter called under_30_male_filter\n"
      ],
      "metadata": {
        "id": "XrEEVhxgbta0"
      },
      "execution_count": null,
      "outputs": []
    },
    {
      "cell_type": "code",
      "source": [
        "# Display the boolean index of the under_30_male_filter\n"
      ],
      "metadata": {
        "id": "1qQ7mYIjbvXa"
      },
      "execution_count": null,
      "outputs": []
    },
    {
      "cell_type": "code",
      "source": [
        "# Get the sum of the under_30_male_filter True values\n",
        "# This is the number of customers who are both under 30 and male\n"
      ],
      "metadata": {
        "id": "imt3cZI2bxfZ"
      },
      "execution_count": null,
      "outputs": []
    },
    {
      "cell_type": "code",
      "source": [
        "# Use the filter to view only rows with customers who are both under 30 and male\n"
      ],
      "metadata": {
        "id": "g4Ke9si1b0np"
      },
      "execution_count": null,
      "outputs": []
    },
    {
      "cell_type": "markdown",
      "source": [
        "4) Create a filter for regions that contain south using .str.contains\n",
        "\n"
      ],
      "metadata": {
        "id": "SXBbjI0RkayT"
      }
    },
    {
      "cell_type": "code",
      "source": [
        "# Create a filter for regions that contain south using .str.contains\n"
      ],
      "metadata": {
        "id": "U9EWVxwOb2wz"
      },
      "execution_count": null,
      "outputs": []
    },
    {
      "cell_type": "code",
      "source": [
        "# Use the filter to view only rows with regions containing \"south\"\n"
      ],
      "metadata": {
        "id": "cIDjCtbcb443"
      },
      "execution_count": null,
      "outputs": []
    },
    {
      "cell_type": "markdown",
      "source": [
        "## You have completed the \"Filtering Data\" Practice Assignment.\n"
      ],
      "metadata": {
        "id": "h4yZ6LECb7Mj"
      }
    },
    {
      "cell_type": "markdown",
      "source": [
        "\n",
        "- 🛑 Stop here.\n",
        "\n",
        "- 💾 Save and submit this notebook now.\n",
        "\n",
        "- 📚 Continue working through the lessons.\n",
        "\n",
        "- ⏎ Return to your copy of this notebook for the next practice assignment.\n",
        "\n",
        "___\n"
      ],
      "metadata": {
        "id": "MSpvBNFACtor"
      }
    }
  ]
}