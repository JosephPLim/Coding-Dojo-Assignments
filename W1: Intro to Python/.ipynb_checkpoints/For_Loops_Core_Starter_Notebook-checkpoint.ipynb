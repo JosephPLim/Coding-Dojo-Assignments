{
 "cells": [
  {
   "cell_type": "markdown",
   "metadata": {
    "id": "GoCvWTFUOpms"
   },
   "source": [
    "# Loops Exercise -  Core\n",
    "##Student - Joseph Lim\n",
    "\n",
    "This is one of the first core (required) assignments for Coding Dojo's Data Science bootcamp. It is given during the first week of the first stack, and is intended to be used to ease students into getting familiar with the Google Colab environment.\n",
    "\n",
    "Specifically, this notebook was taken as a copy of the starter notebook, which is provided to students."
   ]
  },
  {
   "cell_type": "markdown",
   "metadata": {
    "id": "rF_SiCDOQlU1"
   },
   "source": [
    "# Task 1: Loop through a list\n",
    "\n",
    "A company sells the following items at the given prices:\n",
    "\n",
    "Shirts 10.00\n",
    "\n",
    "Hats 15.00\n",
    "\n",
    "Buttons 4.00\n",
    "\n",
    "Stickers 1.00\n",
    "\n",
    "TO DO:\n",
    "\n",
    "A: Run the pre-coded cell to create a list of the products.\n",
    "\n",
    "B: Write a for-loop and use an f-string to print \"We sell PRODUCT here!\" for each product in the list.\n",
    "\n",
    "\n"
   ]
  },
  {
   "cell_type": "code",
   "execution_count": 2,
   "metadata": {
    "id": "rvrFnQFoRWJC"
   },
   "outputs": [],
   "source": [
    "# Create a list of products\n",
    "products = ['Shirts', 'Hats', 'Buttons', 'Stickers']"
   ]
  },
  {
   "cell_type": "code",
   "execution_count": 3,
   "metadata": {
    "colab": {
     "base_uri": "https://localhost:8080/"
    },
    "id": "mGaE09aHR4lc",
    "outputId": "faec8600-fc05-4b52-930a-d09473956e37"
   },
   "outputs": [
    {
     "name": "stdout",
     "output_type": "stream",
     "text": [
      "Shirts\n",
      "Hats\n",
      "Buttons\n",
      "Stickers\n"
     ]
    }
   ],
   "source": [
    "# Write a for-loop to repeat the print statement for each product in the list.\n",
    "for product in products:\n",
    "  print(product)"
   ]
  },
  {
   "cell_type": "markdown",
   "metadata": {
    "id": "cXRXz0_eJeFF"
   },
   "source": [
    "#Task 2: Use a loop to append values to a new list\n",
    "\n",
    "The products are going on a 20% off sale!  \n",
    "\n",
    "\n",
    "TO DO:\n",
    "\n",
    "A: Run the precoded cell to create the list of original\n",
    "B: Define an empty list called sale_prices\n",
    "\n",
    "C: Write a for-loop to append values to the sales_prices list that reflect the sale price (original price * 0.8)\n",
    "\n",
    "D: Print the new list of sales_prices"
   ]
  },
  {
   "cell_type": "code",
   "execution_count": 4,
   "metadata": {
    "id": "1w5ccy0JSbmf"
   },
   "outputs": [],
   "source": [
    "# Create a list of the prices.\n",
    "original_prices = [10, 15, 4, 1]"
   ]
  },
  {
   "cell_type": "code",
   "execution_count": 5,
   "metadata": {
    "id": "O3TcQOEiSk9S"
   },
   "outputs": [],
   "source": [
    "# Create an empty list called sale_prices\n",
    "sale_prices = []"
   ]
  },
  {
   "cell_type": "code",
   "execution_count": 6,
   "metadata": {
    "id": "VC4CMqr_S9Yw"
   },
   "outputs": [],
   "source": [
    "# Use a loop to append the sale_prices list with the sale price (a 20% discount means the original price is multiplied by .8)\n",
    "for price in original_prices:\n",
    "  sale_prices.append(price*0.8)"
   ]
  },
  {
   "cell_type": "code",
   "execution_count": 8,
   "metadata": {
    "colab": {
     "base_uri": "https://localhost:8080/"
    },
    "id": "dGWiS6OBQZoB",
    "outputId": "cd95f3c9-f411-4161-840c-018d32c00998"
   },
   "outputs": [
    {
     "name": "stdout",
     "output_type": "stream",
     "text": [
      "8.0\n",
      "12.0\n",
      "3.2\n",
      "0.8\n"
     ]
    }
   ],
   "source": [
    "# Print the list of sale_prices\n",
    "for price in sale_prices:\n",
    "  print(price)"
   ]
  },
  {
   "cell_type": "markdown",
   "metadata": {
    "id": "5RhQT86XT9-v"
   },
   "source": [
    "#Task 3: Loop through a dictionary\n",
    "\n",
    "TO DO:\n",
    "\n",
    "A: Run the pre-coded cell to create the prices_dict.\n",
    "\n",
    "B: Loop through the prices_dict and use an f-sting to print the statement: \"We sell PRODUCT!\"\n",
    "\n",
    "C: Loop through the prices_dict using prices_dict.items() to print the statement \"PRODUCT costs $PRICE each.\" for each product in the dictionary."
   ]
  },
  {
   "cell_type": "code",
   "execution_count": 11,
   "metadata": {
    "colab": {
     "base_uri": "https://localhost:8080/"
    },
    "id": "HxAD2FQYVjBE",
    "outputId": "49588740-5a42-4796-867d-fa151c220da1"
   },
   "outputs": [
    {
     "data": {
      "text/plain": [
       "{'Shirts': 10, 'Hats': 15, 'Buttons': 4, 'Stickers': 1}"
      ]
     },
     "execution_count": 11,
     "metadata": {},
     "output_type": "execute_result"
    }
   ],
   "source": [
    "# Run this cell to create a dictionary with product and price\n",
    "prices_dict = {'Shirts': 10,\n",
    "              'Hats': 15,\n",
    "              'Buttons' : 4,\n",
    "              'Stickers' : 1}\n",
    "\n",
    "prices_dict"
   ]
  },
  {
   "cell_type": "code",
   "execution_count": 13,
   "metadata": {
    "colab": {
     "base_uri": "https://localhost:8080/"
    },
    "id": "NWLMQwSmWpGE",
    "outputId": "1d0b7bd2-315f-48b6-9063-c07398b2cf2d"
   },
   "outputs": [
    {
     "name": "stdout",
     "output_type": "stream",
     "text": [
      "We sell Shirts!\n",
      "We sell Hats!\n",
      "We sell Buttons!\n",
      "We sell Stickers!\n"
     ]
    }
   ],
   "source": [
    "# Loop through the dictionary to print: \"We sell __!\"\n",
    "for item in prices_dict:\n",
    "  print(f\"We sell {item}!\")"
   ]
  },
  {
   "cell_type": "code",
   "execution_count": 17,
   "metadata": {
    "colab": {
     "base_uri": "https://localhost:8080/"
    },
    "id": "NSZCca2oWvry",
    "outputId": "c9162bf9-e3bf-40a1-86c4-37b0685e52b7"
   },
   "outputs": [
    {
     "name": "stdout",
     "output_type": "stream",
     "text": [
      "Shirts costs $10 each\n",
      "Hats costs $15 each\n",
      "Buttons costs $4 each\n",
      "Stickers costs $1 each\n"
     ]
    }
   ],
   "source": [
    "# Loop through the dictionary to print: \"__ cost $__ each\".\n",
    "for item, price in prices_dict.items():\n",
    "  print(f\"{item} costs ${price} each\")"
   ]
  },
  {
   "cell_type": "markdown",
   "metadata": {
    "id": "V_WVu-S0IG3w"
   },
   "source": [
    "#Task 4: Create a new dictionary by updating values using a for-loop\n",
    "\n",
    "We want to create a new dictionary that contains the product and the sale price called sale_dict.\n",
    "\n",
    "To create the prices_dict in the above task, we just provided the code cell with the necessary information. Rather than typing all of the info to make the sale dictionary, we will use a for-loop to calculate the sale price based on the original price.\n",
    "\n",
    "TO DO:\n",
    "\n",
    "A: Create an empty dictionary called sales_dict.\n",
    "\n",
    "B: Use a for-loop and prices_dict.items() to fill in the sales_dict.\n",
    "\n",
    "* Calculate the sale price (original price * 0.8).\n",
    "\n",
    "* Save the sale price in the sales_dict using the product name as the key.\n",
    "\n",
    "C: Print the sales_dict\n",
    "\n",
    "D: Loop through the sales_dict.items() to print \"PRODUCT are on sale for only SALE PRICE!'\n",
    "\n",
    "\n"
   ]
  },
  {
   "cell_type": "code",
   "execution_count": 19,
   "metadata": {
    "id": "JvoYAQcySzM8"
   },
   "outputs": [],
   "source": [
    "# Use a loop to create a new dictionary with product and sales prices\n",
    "sales_dict = {}\n",
    "\n",
    "for item, price in prices_dict.items():\n",
    "  sales_dict[item] = price * 0.8"
   ]
  },
  {
   "cell_type": "code",
   "execution_count": 20,
   "metadata": {
    "colab": {
     "base_uri": "https://localhost:8080/"
    },
    "id": "mTRik7dGl52i",
    "outputId": "8b4e85f1-2a8a-42c1-955e-f0993ae1790a"
   },
   "outputs": [
    {
     "data": {
      "text/plain": [
       "{'Shirts': 8.0, 'Hats': 12.0, 'Buttons': 3.2, 'Stickers': 0.8}"
      ]
     },
     "execution_count": 20,
     "metadata": {},
     "output_type": "execute_result"
    }
   ],
   "source": [
    "# Print the sales_dict\n",
    "sales_dict"
   ]
  },
  {
   "cell_type": "code",
   "execution_count": 21,
   "metadata": {
    "colab": {
     "base_uri": "https://localhost:8080/"
    },
    "id": "aYRJqGktNO_g",
    "outputId": "e60ee970-bf56-4fa1-a141-4b47dd23d5e6"
   },
   "outputs": [
    {
     "name": "stdout",
     "output_type": "stream",
     "text": [
      "Shirts are on sale for only 8.0!\n",
      "Hats are on sale for only 12.0!\n",
      "Buttons are on sale for only 3.2!\n",
      "Stickers are on sale for only 0.8!\n"
     ]
    }
   ],
   "source": [
    "# Loop throuh the sale_dict to print \"PRODUCT are on sale for only SALE PRICE!\" for each item.\n",
    "for item, price in sales_dict.items():\n",
    "  print(f\"{item} are on sale for only {price}!\")"
   ]
  }
 ],
 "metadata": {
  "colab": {
   "provenance": []
  },
  "kernelspec": {
   "display_name": "Python 3",
   "name": "python3"
  },
  "language_info": {
   "name": "python"
  }
 },
 "nbformat": 4,
 "nbformat_minor": 0
}
