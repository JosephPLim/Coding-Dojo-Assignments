{
  "nbformat": 4,
  "nbformat_minor": 0,
  "metadata": {
    "colab": {
      "provenance": []
    },
    "kernelspec": {
      "name": "python3",
      "display_name": "Python 3"
    },
    "language_info": {
      "name": "python"
    }
  },
  "cells": [
    {
      "cell_type": "markdown",
      "source": [
        "#Central Tendency Functions\n",
        "## Student Joseph Lim\n",
        "\n",
        "Thi is one of the core (required) assignments for Coding Dojo's Data Science bootcamp. It is given during the first week of the first stack, and is intended to ease students into getting familiar with central tendency functions such as mean, median, and mode.\n",
        "\n",
        "This notebook was created solely by Joseph Lim. Starter notebooks are not provided to students."
      ],
      "metadata": {
        "id": "oO-Hv4Jt4OaU"
      }
    },
    {
      "cell_type": "markdown",
      "source": [
        "## Data Importation\n",
        "\n",
        "Importing in necessary libraries"
      ],
      "metadata": {
        "id": "KHV8iDpr8hKO"
      }
    },
    {
      "cell_type": "code",
      "source": [
        "#Importing numpy - useful for mean, median\n",
        "import numpy as np\n",
        "#Importing mode from statistics\n",
        "from statistics import mode"
      ],
      "metadata": {
        "id": "s6yUXZkm8n1O"
      },
      "execution_count": 1,
      "outputs": []
    },
    {
      "cell_type": "markdown",
      "source": [
        "##Function Creation and Testing\n",
        "\n",
        "Create a function that takes in a list of temperatures, and returns central tendeny functions such as mean, median, and mode."
      ],
      "metadata": {
        "id": "vGxW4FRs8kP8"
      }
    },
    {
      "cell_type": "code",
      "execution_count": 2,
      "metadata": {
        "id": "pfZtHD2o3T61"
      },
      "outputs": [],
      "source": [
        "#Lists of Fahrenheit temps\n",
        "week_1 = [45, 55, 49, 60, 52, 55, 58]\n",
        "week_2 = [51, 49, 62, 50, 53, 56, 59]\n",
        "week_3 = [60, 60, 61, 62, 57, 59, 58]\n",
        "week_4 = [59, 63, 62, 61, 65, 66, 62]"
      ]
    },
    {
      "cell_type": "code",
      "source": [
        "#Printing out mean, median, and mode for week_1\n",
        "print(np.mean(week_1))\n",
        "\n",
        "print(np.median(week_1))\n",
        "\n",
        "print(mode(week_1))"
      ],
      "metadata": {
        "colab": {
          "base_uri": "https://localhost:8080/"
        },
        "id": "cK2HZB7aGAHi",
        "outputId": "e9033d88-e9e5-4dc9-f0fd-ef18ef7fa8da"
      },
      "execution_count": 3,
      "outputs": [
        {
          "output_type": "stream",
          "name": "stdout",
          "text": [
            "53.42857142857143\n",
            "55.0\n",
            "55\n"
          ]
        }
      ]
    },
    {
      "cell_type": "code",
      "source": [
        "#Creating initial function\n",
        "def central_tendency(temp_list):\n",
        "  \"\"\"\n",
        "  Takes in a list of temperatures, and returns the mean, median, and mode\n",
        "  in a tuple for later extraction.\n",
        "  \"\"\"\n",
        "  temp_mean = np.mean(temp_list)\n",
        "  temp_median = np.median(temp_list)\n",
        "  temp_mode = mode(temp_list)\n",
        "\n",
        "  central_tendencies = (temp_mean, temp_median, temp_mode)\n",
        "  return central_tendencies"
      ],
      "metadata": {
        "id": "A-oFHfunFuR-"
      },
      "execution_count": 4,
      "outputs": []
    },
    {
      "cell_type": "code",
      "source": [
        "#Testing function on week_1 data\n",
        "print(central_tendency(week_1))"
      ],
      "metadata": {
        "colab": {
          "base_uri": "https://localhost:8080/"
        },
        "id": "qyYZ52eDFuVj",
        "outputId": "daa519ef-d4d6-468b-dbb7-a70fbec97468"
      },
      "execution_count": 5,
      "outputs": [
        {
          "output_type": "stream",
          "name": "stdout",
          "text": [
            "(53.42857142857143, 55.0, 55)\n"
          ]
        }
      ]
    },
    {
      "cell_type": "code",
      "source": [
        "#Creating better function\n",
        "def central_tendency_improved(temp_list, verbose = True):\n",
        "  \"\"\"\n",
        "  Takes in a list of temperatures, and returns the mean, median, and mode\n",
        "  in a tuple for later extraction.\n",
        "  \"\"\"\n",
        "  temp_mean = np.mean(temp_list)\n",
        "  temp_median = np.median(temp_list)\n",
        "  temp_mode = mode(temp_list)\n",
        "\n",
        "  if verbose == True:\n",
        "    print(f\"The mean is {temp_mean}\")\n",
        "    print(f\"The median is {temp_median}\")\n",
        "    print(f\"The mode is {temp_mode}\")\n",
        "\n",
        "  central_tendencies = (temp_mean, temp_median, temp_mode)\n",
        "  return central_tendencies"
      ],
      "metadata": {
        "id": "-BlPPdmRFuY4"
      },
      "execution_count": 6,
      "outputs": []
    },
    {
      "cell_type": "code",
      "source": [
        "#Testing better function\n",
        "print(central_tendency_improved(week_2))"
      ],
      "metadata": {
        "colab": {
          "base_uri": "https://localhost:8080/"
        },
        "id": "lUPauhZiNvIr",
        "outputId": "e33a8a9d-e488-41c3-8384-768ffa0782cc"
      },
      "execution_count": 7,
      "outputs": [
        {
          "output_type": "stream",
          "name": "stdout",
          "text": [
            "The mean is 54.285714285714285\n",
            "The median is 53.0\n",
            "The mode is 51\n",
            "(54.285714285714285, 53.0, 51)\n"
          ]
        }
      ]
    }
  ]
}