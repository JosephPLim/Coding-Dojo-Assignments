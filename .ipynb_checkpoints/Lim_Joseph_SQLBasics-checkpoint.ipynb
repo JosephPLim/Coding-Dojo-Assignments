{
 "cells": [
  {
   "cell_type": "markdown",
   "metadata": {
    "id": "38idX8Wk_xBV"
   },
   "source": [
    "<center>\n",
    "<img src=\"https://course_report_production.s3.amazonaws.com/rich/rich_files/rich_files/2470/s300/cd-logo-blue-600x600.png\" alt=\"Coding Dojo Logo\" class=\"center\" height=\"50\">\n",
    "\n",
    "# SQL Basics Exercise\n",
    "\n",
    "*Make a copy of this notebook to edit!*\n",
    "```\n",
    "File > Save a copy in Drive\n",
    "```\n",
    "    \n",
    "</center>\n",
    "\n",
    "[SQLAlchemy](https://www.sqlalchemy.org/) is a wrapper for Python that allows us to write SQL queries in Python. We will use this to practice our SQL basics in Python.\n",
    "\n",
    "First, we need to connect to a database. We will just read a table into SQL for this step. We will be creating a [SQLite](https://sqlite.org/index.html) database and loading our [data](https://drive.google.com/file/d/18MgOmIHHafoubgp2d_7GM6GWroxb0vPe/view?usp=sharing) into that database.\n",
    "\n",
    "The data (from [this source](https://data.world/sikkim/school)) describes details of various schools."
   ]
  },
  {
   "cell_type": "code",
   "execution_count": null,
   "metadata": {
    "id": "4whVGi2Wud1w"
   },
   "outputs": [],
   "source": [
    "# imports\n",
    "import pandas as pd\n",
    "from sqlalchemy import create_engine"
   ]
  },
  {
   "cell_type": "code",
   "execution_count": null,
   "metadata": {
    "id": "9p14osBhUD37"
   },
   "outputs": [],
   "source": [
    "# mount data\n",
    "from google.colab import drive\n",
    "drive.mount('/content/drive')"
   ]
  },
  {
   "cell_type": "code",
   "execution_count": null,
   "metadata": {
    "id": "vttB7TWAUF9B"
   },
   "outputs": [],
   "source": [
    "# load data - change the path to match your drive!\n",
    "df_school = pd.read_csv('/content/drive/CHANGETHEPATH/School Details.csv')\n",
    "# make sure it loaded correctly\n",
    "df_school.head(2)"
   ]
  },
  {
   "cell_type": "code",
   "execution_count": null,
   "metadata": {
    "id": "PQGdfEEEudzI"
   },
   "outputs": [],
   "source": [
    "# create sqlite engine\n",
    "engine = create_engine('sqlite:///schools.db', echo=True)\n",
    "# create connection to engine\n",
    "conn = engine.connect()"
   ]
  },
  {
   "cell_type": "code",
   "execution_count": null,
   "metadata": {
    "id": "OudkpXECuz2n"
   },
   "outputs": [],
   "source": [
    "# add the dataframe as a table in sqlite\n",
    "sqlite_table = \"school_details\"\n",
    "df_school.to_sql(sqlite_table, conn, if_exists='fail')"
   ]
  },
  {
   "cell_type": "markdown",
   "metadata": {
    "id": "josvz8RqutAv"
   },
   "source": [
    "## SELECT & FROM\n",
    "\n",
    "1. Get the EstablishmentName, SchoolLevel, and Website columns.\n",
    "\n",
    "We can actually use Pandas to run SQL queries! To do this, we write a SQL query in a multi-line string. Simply replace the text in the multi-line string below with your SQL query and run the cell to query your data."
   ]
  },
  {
   "cell_type": "code",
   "execution_count": null,
   "metadata": {
    "id": "dD-WyYtBuzuu"
   },
   "outputs": [],
   "source": [
    "# Write your SQL query in this string\n",
    "sql = \"\"\"\n",
    "Replace this text\n",
    "with your query!\n",
    "\"\"\"\n",
    "\n",
    "# Read the sql query into pandas to view the results\n",
    "pd.read_sql_query(sql, engine)"
   ]
  },
  {
   "cell_type": "markdown",
   "metadata": {
    "id": "2hrqy6KgvOdh"
   },
   "source": [
    "## WHERE\n",
    "\n",
    "2. Display the EstablishmentName and DistrictHQDistance (in Km) for schools where the DistrictHQDistance (in Km) is more than 100 Km."
   ]
  },
  {
   "cell_type": "code",
   "execution_count": null,
   "metadata": {
    "id": "NkjPihzvudvR"
   },
   "outputs": [],
   "source": [
    "# Write your SQL query in this string\n",
    "sql = \"\"\"\n",
    "Replace this text\n",
    "with your query!\n",
    "\"\"\"\n",
    "\n",
    "# Read the sql query into pandas to view the results\n",
    "pd.read_sql_query(sql, engine)"
   ]
  },
  {
   "cell_type": "markdown",
   "metadata": {
    "id": "bodZsD2av1dD"
   },
   "source": [
    "3. Display the EstablishmentName, SchoolLevel, DistrictHQDistance (in Km) for schools where the school level is \"JHS.\""
   ]
  },
  {
   "cell_type": "code",
   "execution_count": null,
   "metadata": {
    "id": "nyKYBoMuwCbR"
   },
   "outputs": [],
   "source": [
    "# Write your SQL query in this string\n",
    "sql = \"\"\"\n",
    "Replace this text\n",
    "with your query!\n",
    "\"\"\"\n",
    "\n",
    "# Read the sql query into pandas to view the results\n",
    " pd.read_sql_query(sql, engine)"
   ]
  },
  {
   "cell_type": "markdown",
   "metadata": {
    "id": "XXeG19hywLlp"
   },
   "source": [
    "## Wildcards & LIKE\n",
    "\n",
    "4. Display the EstablishmentName, SchoolLevel, DistrictHQDistance (in Km) for schools where the name of the school contains the words \"JUNIOR HIGH.\""
   ]
  },
  {
   "cell_type": "code",
   "execution_count": null,
   "metadata": {
    "id": "_JlXTE_ywUeQ"
   },
   "outputs": [],
   "source": [
    "# Write your SQL query in this string\n",
    "sql = \"\"\"\n",
    "Replace this text\n",
    "with your query!\n",
    "\"\"\"\n",
    "\n",
    "# Read the sql query into pandas to view the results\n",
    "pd.read_sql_query(sql, engine)"
   ]
  },
  {
   "cell_type": "markdown",
   "metadata": {
    "id": "8HFsQfZLts0i"
   },
   "source": [
    "## LIMIT & ORDER BY\n",
    "\n",
    "5. Display the EstablishmentName, SchoolLevel, DistrictHQDistance (in Km) for schools where the name of the school starts with the letter \"C.\" Sort the results alphabetically by school name and limit the results of the query to 10 rows."
   ]
  },
  {
   "cell_type": "code",
   "execution_count": null,
   "metadata": {
    "id": "kDXqMQjdw2fK"
   },
   "outputs": [],
   "source": [
    "# Write your SQL query in this string\n",
    "sql = \"\"\"\n",
    "Replace this text\n",
    "with your query!\n",
    "\"\"\"\n",
    "\n",
    "# Read the sql query into pandas to view the results\n",
    "pd.read_sql_query(sql, engine)"
   ]
  },
  {
   "cell_type": "markdown",
   "metadata": {
    "id": "oEj7VseBw26j"
   },
   "source": [
    "6. Display the names of schools in urban areas. Sort the results in reverse alphabetical order."
   ]
  },
  {
   "cell_type": "code",
   "execution_count": null,
   "metadata": {
    "id": "xw6SGQHQw4dS"
   },
   "outputs": [],
   "source": [
    "# Write your SQL query in this string\n",
    "sql = \"\"\"\n",
    "Replace this text\n",
    "with your query!\n",
    "\"\"\"\n",
    "\n",
    "# Read the sql query into pandas to view the results\n",
    "pd.read_sql_query(sql, engine)"
   ]
  },
  {
   "cell_type": "markdown",
   "metadata": {
    "id": "-2hdNdaaw482"
   },
   "source": [
    "## Aliasing\n",
    "\n",
    "7. Repeat the previous query, but rename the column displayed to \"name\"."
   ]
  },
  {
   "cell_type": "code",
   "execution_count": null,
   "metadata": {
    "id": "vDQJQ1RWw5sD"
   },
   "outputs": [],
   "source": [
    "# Write your SQL query in this string\n",
    "sql = \"\"\"\n",
    "Replace this text\n",
    "with your query!\n",
    "\"\"\"\n",
    "\n",
    "# Read the sql query into pandas to view the results\n",
    "pd.read_sql_query(sql, engine)"
   ]
  },
  {
   "cell_type": "code",
   "execution_count": null,
   "metadata": {
    "id": "a49BF5JpyUwT"
   },
   "outputs": [],
   "source": [
    "# Close the database connection\n",
    "conn.close()"
   ]
  }
 ],
 "metadata": {
  "anaconda-cloud": {},
  "celltoolbar": "Slideshow",
  "colab": {
   "provenance": []
  },
  "kernelspec": {
   "display_name": "Python 3",
   "language": "python",
   "name": "python3"
  },
  "language_info": {
   "codemirror_mode": {
    "name": "ipython",
    "version": 3
   },
   "file_extension": ".py",
   "mimetype": "text/x-python",
   "name": "python",
   "nbconvert_exporter": "python",
   "pygments_lexer": "ipython3",
   "version": "3.7.6"
  }
 },
 "nbformat": 4,
 "nbformat_minor": 0
}
