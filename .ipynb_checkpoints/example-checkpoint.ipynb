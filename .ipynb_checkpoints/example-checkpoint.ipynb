{
 "cells": [
  {
   "cell_type": "markdown",
   "id": "76392219",
   "metadata": {},
   "source": [
    "# Core Assignment: K-Means: Find K\n",
    "## Student: Joseph Lim\n",
    "\n",
    "Task: Perform customer segmentation on a dataset using KMeans."
   ]
  },
  {
   "cell_type": "markdown",
   "id": "e0d22dd6",
   "metadata": {},
   "source": [
    "## Import Libraries and Mount Drive if Necessary"
   ]
  },
  {
   "cell_type": "code",
   "execution_count": null,
   "id": "c1b531e5",
   "metadata": {
    "scrolled": true
   },
   "outputs": [],
   "source": [
    "#Package for making themes like dark modeb\n",
    "!pip install jupyterthemes"
   ]
  },
  {
   "cell_type": "code",
   "execution_count": null,
   "id": "d3cba8df",
   "metadata": {},
   "outputs": [],
   "source": [
    "#choosee the theme\n",
    "!jt -t chesterish\n",
    "\n",
    "#revert to default\n",
    "# ~jt - r # we run this to revert o default\n",
    "\n",
    "\"\"\"\n",
    "available themes:\n",
    "onedork | grade3 | oceans16 | chesterish |\n",
    "monokai | solarizedl | solarizedd\n",
    "\"\"\""
   ]
  },
  {
   "cell_type": "code",
   "execution_count": null,
   "id": "379201de",
   "metadata": {},
   "outputs": [],
   "source": [
    "# Pandas and Numpy\n",
    "import numpy as np\n",
    "import pandas as pd\n",
    "\n",
    "# Plotting stuffb\n",
    "import matplotlib.pyplot as plt\n",
    "\n",
    "#Preprocessing SimpleImputer and Scaler for K-Means\n",
    "from sklearn.impute import SimpleImputer\n",
    "from sklearn.pipeline import make_pipeline\n",
    "from sklearn.preprocessing import StandardScaler\n",
    "\n",
    "#Kmeans\n",
    "from sklearn.cluster import KMeans\n",
    "from sklearn.metrics import silhouette_score"
   ]
  },
  {
   "cell_type": "markdown",
   "id": "fb054caa",
   "metadata": {},
   "source": [
    "## Load and inspect the data"
   ]
  },
  {
   "cell_type": "markdown",
   "id": "8f30ccb4",
   "metadata": {},
   "source": [
    "To add in a .csv/.xlsx file\n",
    "1. go to the library you're running\n",
    "1.  Hit \"upload\"\n",
    "    * ipsum\n",
    "1. Import the data you want to upload"
   ]
  },
  {
   "cell_type": "markdown",
   "id": "d00072ca",
   "metadata": {},
   "source": [
    "a^2 # how do we make this superlative"
   ]
  },
  {
   "cell_type": "markdown",
   "id": "f6f9161d",
   "metadata": {},
   "source": [
    "![This is an image](cat.jpg)"
   ]
  },
  {
   "cell_type": "code",
   "execution_count": null,
   "id": "547c6dd6",
   "metadata": {},
   "outputs": [],
   "source": [
    "## Load in Data\n",
    "filename = \"cust_seg.csv\"\n",
    "df = pd.read_csv(filename)\n",
    "df.head()"
   ]
  }
 ],
 "metadata": {
  "kernelspec": {
   "display_name": "Python (dojo-env)",
   "language": "python",
   "name": "dojo-env"
  },
  "language_info": {
   "codemirror_mode": {
    "name": "ipython",
    "version": 3
   },
   "file_extension": ".py",
   "mimetype": "text/x-python",
   "name": "python",
   "nbconvert_exporter": "python",
   "pygments_lexer": "ipython3",
   "version": "3.9.15"
  },
  "toc": {
   "base_numbering": 1,
   "nav_menu": {},
   "number_sections": false,
   "sideBar": true,
   "skip_h1_title": false,
   "title_cell": "Table of Contents",
   "title_sidebar": "Contents",
   "toc_cell": false,
   "toc_position": {},
   "toc_section_display": true,
   "toc_window_display": false
  }
 },
 "nbformat": 4,
 "nbformat_minor": 5
}
