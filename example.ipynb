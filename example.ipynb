{
 "cells": [
  {
   "cell_type": "markdown",
   "id": "76392219",
   "metadata": {},
   "source": [
    "# [Core/Practice] Assignment: Assignment Name\n",
    "## Student: Joseph Lim\n",
    "\n",
    "Task: Task to do.\n",
    "\n",
    "Data Table goes here"
   ]
  },
  {
   "cell_type": "markdown",
   "id": "e0d22dd6",
   "metadata": {},
   "source": [
    "## Import Libraries and Mount Drive if Necessary"
   ]
  },
  {
   "cell_type": "code",
   "execution_count": 1,
   "id": "c1b531e5",
   "metadata": {
    "scrolled": true
   },
   "outputs": [
    {
     "name": "stdout",
     "output_type": "stream",
     "text": [
      "Requirement already satisfied: jupyterthemes in /Users/joseph/opt/anaconda3/envs/dojo-env/lib/python3.9/site-packages (0.20.0)\n",
      "Requirement already satisfied: lesscpy>=0.11.2 in /Users/joseph/opt/anaconda3/envs/dojo-env/lib/python3.9/site-packages (from jupyterthemes) (0.15.1)\n",
      "Requirement already satisfied: ipython>=5.4.1 in /Users/joseph/opt/anaconda3/envs/dojo-env/lib/python3.9/site-packages (from jupyterthemes) (8.6.0)\n",
      "Requirement already satisfied: notebook>=5.6.0 in /Users/joseph/opt/anaconda3/envs/dojo-env/lib/python3.9/site-packages (from jupyterthemes) (6.5.2)\n",
      "Requirement already satisfied: jupyter-core in /Users/joseph/opt/anaconda3/envs/dojo-env/lib/python3.9/site-packages (from jupyterthemes) (4.11.2)\n",
      "Requirement already satisfied: matplotlib>=1.4.3 in /Users/joseph/opt/anaconda3/envs/dojo-env/lib/python3.9/site-packages (from jupyterthemes) (3.6.2)\n",
      "Requirement already satisfied: pickleshare in /Users/joseph/opt/anaconda3/envs/dojo-env/lib/python3.9/site-packages (from ipython>=5.4.1->jupyterthemes) (0.7.5)\n",
      "Requirement already satisfied: backcall in /Users/joseph/opt/anaconda3/envs/dojo-env/lib/python3.9/site-packages (from ipython>=5.4.1->jupyterthemes) (0.2.0)\n",
      "Requirement already satisfied: pexpect>4.3 in /Users/joseph/opt/anaconda3/envs/dojo-env/lib/python3.9/site-packages (from ipython>=5.4.1->jupyterthemes) (4.8.0)\n",
      "Requirement already satisfied: appnope in /Users/joseph/opt/anaconda3/envs/dojo-env/lib/python3.9/site-packages (from ipython>=5.4.1->jupyterthemes) (0.1.2)\n",
      "Requirement already satisfied: jedi>=0.16 in /Users/joseph/opt/anaconda3/envs/dojo-env/lib/python3.9/site-packages (from ipython>=5.4.1->jupyterthemes) (0.18.1)\n",
      "Requirement already satisfied: decorator in /Users/joseph/opt/anaconda3/envs/dojo-env/lib/python3.9/site-packages (from ipython>=5.4.1->jupyterthemes) (5.1.1)\n",
      "Requirement already satisfied: traitlets>=5 in /Users/joseph/opt/anaconda3/envs/dojo-env/lib/python3.9/site-packages (from ipython>=5.4.1->jupyterthemes) (5.1.1)\n",
      "Requirement already satisfied: stack-data in /Users/joseph/opt/anaconda3/envs/dojo-env/lib/python3.9/site-packages (from ipython>=5.4.1->jupyterthemes) (0.2.0)\n",
      "Requirement already satisfied: pygments>=2.4.0 in /Users/joseph/opt/anaconda3/envs/dojo-env/lib/python3.9/site-packages (from ipython>=5.4.1->jupyterthemes) (2.11.2)\n",
      "Requirement already satisfied: matplotlib-inline in /Users/joseph/opt/anaconda3/envs/dojo-env/lib/python3.9/site-packages (from ipython>=5.4.1->jupyterthemes) (0.1.6)\n",
      "Requirement already satisfied: prompt-toolkit<3.1.0,>3.0.1 in /Users/joseph/opt/anaconda3/envs/dojo-env/lib/python3.9/site-packages (from ipython>=5.4.1->jupyterthemes) (3.0.20)\n",
      "Requirement already satisfied: ply in /Users/joseph/opt/anaconda3/envs/dojo-env/lib/python3.9/site-packages (from lesscpy>=0.11.2->jupyterthemes) (3.11)\n",
      "Requirement already satisfied: pillow>=6.2.0 in /Users/joseph/opt/anaconda3/envs/dojo-env/lib/python3.9/site-packages (from matplotlib>=1.4.3->jupyterthemes) (9.2.0)\n",
      "Requirement already satisfied: pyparsing>=2.2.1 in /Users/joseph/opt/anaconda3/envs/dojo-env/lib/python3.9/site-packages (from matplotlib>=1.4.3->jupyterthemes) (3.0.9)\n",
      "Requirement already satisfied: contourpy>=1.0.1 in /Users/joseph/opt/anaconda3/envs/dojo-env/lib/python3.9/site-packages (from matplotlib>=1.4.3->jupyterthemes) (1.0.5)\n",
      "Requirement already satisfied: cycler>=0.10 in /Users/joseph/opt/anaconda3/envs/dojo-env/lib/python3.9/site-packages (from matplotlib>=1.4.3->jupyterthemes) (0.11.0)\n",
      "Requirement already satisfied: packaging>=20.0 in /Users/joseph/opt/anaconda3/envs/dojo-env/lib/python3.9/site-packages (from matplotlib>=1.4.3->jupyterthemes) (21.3)\n",
      "Requirement already satisfied: python-dateutil>=2.7 in /Users/joseph/opt/anaconda3/envs/dojo-env/lib/python3.9/site-packages (from matplotlib>=1.4.3->jupyterthemes) (2.8.2)\n",
      "Requirement already satisfied: kiwisolver>=1.0.1 in /Users/joseph/opt/anaconda3/envs/dojo-env/lib/python3.9/site-packages (from matplotlib>=1.4.3->jupyterthemes) (1.4.2)\n",
      "Requirement already satisfied: fonttools>=4.22.0 in /Users/joseph/opt/anaconda3/envs/dojo-env/lib/python3.9/site-packages (from matplotlib>=1.4.3->jupyterthemes) (4.25.0)\n",
      "Requirement already satisfied: numpy>=1.19 in /Users/joseph/opt/anaconda3/envs/dojo-env/lib/python3.9/site-packages (from matplotlib>=1.4.3->jupyterthemes) (1.23.4)\n",
      "Requirement already satisfied: ipython-genutils in /Users/joseph/opt/anaconda3/envs/dojo-env/lib/python3.9/site-packages (from notebook>=5.6.0->jupyterthemes) (0.2.0)\n",
      "Requirement already satisfied: nbclassic>=0.4.7 in /Users/joseph/opt/anaconda3/envs/dojo-env/lib/python3.9/site-packages (from notebook>=5.6.0->jupyterthemes) (0.4.8)\n",
      "Requirement already satisfied: jinja2 in /Users/joseph/opt/anaconda3/envs/dojo-env/lib/python3.9/site-packages (from notebook>=5.6.0->jupyterthemes) (3.1.2)\n",
      "Requirement already satisfied: tornado>=6.1 in /Users/joseph/opt/anaconda3/envs/dojo-env/lib/python3.9/site-packages (from notebook>=5.6.0->jupyterthemes) (6.2)\n",
      "Requirement already satisfied: pyzmq>=17 in /Users/joseph/opt/anaconda3/envs/dojo-env/lib/python3.9/site-packages (from notebook>=5.6.0->jupyterthemes) (23.2.0)\n",
      "Requirement already satisfied: nbformat in /Users/joseph/opt/anaconda3/envs/dojo-env/lib/python3.9/site-packages (from notebook>=5.6.0->jupyterthemes) (5.7.0)\n",
      "Requirement already satisfied: nest-asyncio>=1.5 in /Users/joseph/opt/anaconda3/envs/dojo-env/lib/python3.9/site-packages (from notebook>=5.6.0->jupyterthemes) (1.5.5)\n",
      "Requirement already satisfied: terminado>=0.8.3 in /Users/joseph/opt/anaconda3/envs/dojo-env/lib/python3.9/site-packages (from notebook>=5.6.0->jupyterthemes) (0.13.1)\n",
      "Requirement already satisfied: nbconvert>=5 in /Users/joseph/opt/anaconda3/envs/dojo-env/lib/python3.9/site-packages (from notebook>=5.6.0->jupyterthemes) (6.5.4)\n",
      "Requirement already satisfied: prometheus-client in /Users/joseph/opt/anaconda3/envs/dojo-env/lib/python3.9/site-packages (from notebook>=5.6.0->jupyterthemes) (0.14.1)\n",
      "Requirement already satisfied: Send2Trash>=1.8.0 in /Users/joseph/opt/anaconda3/envs/dojo-env/lib/python3.9/site-packages (from notebook>=5.6.0->jupyterthemes) (1.8.0)\n",
      "Requirement already satisfied: ipykernel in /Users/joseph/opt/anaconda3/envs/dojo-env/lib/python3.9/site-packages (from notebook>=5.6.0->jupyterthemes) (6.15.2)\n",
      "Requirement already satisfied: jupyter-client>=5.3.4 in /Users/joseph/opt/anaconda3/envs/dojo-env/lib/python3.9/site-packages (from notebook>=5.6.0->jupyterthemes) (7.4.7)\n",
      "Requirement already satisfied: argon2-cffi in /Users/joseph/opt/anaconda3/envs/dojo-env/lib/python3.9/site-packages (from notebook>=5.6.0->jupyterthemes) (21.3.0)\n",
      "Requirement already satisfied: parso<0.9.0,>=0.8.0 in /Users/joseph/opt/anaconda3/envs/dojo-env/lib/python3.9/site-packages (from jedi>=0.16->ipython>=5.4.1->jupyterthemes) (0.8.3)\n",
      "Requirement already satisfied: entrypoints in /Users/joseph/opt/anaconda3/envs/dojo-env/lib/python3.9/site-packages (from jupyter-client>=5.3.4->notebook>=5.6.0->jupyterthemes) (0.4)\n",
      "Requirement already satisfied: jupyter-server>=1.8 in /Users/joseph/opt/anaconda3/envs/dojo-env/lib/python3.9/site-packages (from nbclassic>=0.4.7->notebook>=5.6.0->jupyterthemes) (1.18.1)\n",
      "Requirement already satisfied: notebook-shim>=0.1.0 in /Users/joseph/opt/anaconda3/envs/dojo-env/lib/python3.9/site-packages (from nbclassic>=0.4.7->notebook>=5.6.0->jupyterthemes) (0.2.2)\n",
      "Requirement already satisfied: lxml in /Users/joseph/opt/anaconda3/envs/dojo-env/lib/python3.9/site-packages (from nbconvert>=5->notebook>=5.6.0->jupyterthemes) (4.9.1)\n",
      "Requirement already satisfied: bleach in /Users/joseph/opt/anaconda3/envs/dojo-env/lib/python3.9/site-packages (from nbconvert>=5->notebook>=5.6.0->jupyterthemes) (4.1.0)\n",
      "Requirement already satisfied: nbclient>=0.5.0 in /Users/joseph/opt/anaconda3/envs/dojo-env/lib/python3.9/site-packages (from nbconvert>=5->notebook>=5.6.0->jupyterthemes) (0.5.13)\n",
      "Requirement already satisfied: defusedxml in /Users/joseph/opt/anaconda3/envs/dojo-env/lib/python3.9/site-packages (from nbconvert>=5->notebook>=5.6.0->jupyterthemes) (0.7.1)\n",
      "Requirement already satisfied: MarkupSafe>=2.0 in /Users/joseph/opt/anaconda3/envs/dojo-env/lib/python3.9/site-packages (from nbconvert>=5->notebook>=5.6.0->jupyterthemes) (2.1.1)\n",
      "Requirement already satisfied: mistune<2,>=0.8.1 in /Users/joseph/opt/anaconda3/envs/dojo-env/lib/python3.9/site-packages (from nbconvert>=5->notebook>=5.6.0->jupyterthemes) (0.8.4)\n",
      "Requirement already satisfied: jupyterlab-pygments in /Users/joseph/opt/anaconda3/envs/dojo-env/lib/python3.9/site-packages (from nbconvert>=5->notebook>=5.6.0->jupyterthemes) (0.1.2)\n",
      "Requirement already satisfied: beautifulsoup4 in /Users/joseph/opt/anaconda3/envs/dojo-env/lib/python3.9/site-packages (from nbconvert>=5->notebook>=5.6.0->jupyterthemes) (4.11.1)\n",
      "Requirement already satisfied: tinycss2 in /Users/joseph/opt/anaconda3/envs/dojo-env/lib/python3.9/site-packages (from nbconvert>=5->notebook>=5.6.0->jupyterthemes) (1.2.1)\n",
      "Requirement already satisfied: pandocfilters>=1.4.1 in /Users/joseph/opt/anaconda3/envs/dojo-env/lib/python3.9/site-packages (from nbconvert>=5->notebook>=5.6.0->jupyterthemes) (1.5.0)\n",
      "Requirement already satisfied: jsonschema>=2.6 in /Users/joseph/opt/anaconda3/envs/dojo-env/lib/python3.9/site-packages (from nbformat->notebook>=5.6.0->jupyterthemes) (4.16.0)\n",
      "Requirement already satisfied: fastjsonschema in /Users/joseph/opt/anaconda3/envs/dojo-env/lib/python3.9/site-packages (from nbformat->notebook>=5.6.0->jupyterthemes) (2.16.2)\n"
     ]
    },
    {
     "name": "stdout",
     "output_type": "stream",
     "text": [
      "Requirement already satisfied: ptyprocess>=0.5 in /Users/joseph/opt/anaconda3/envs/dojo-env/lib/python3.9/site-packages (from pexpect>4.3->ipython>=5.4.1->jupyterthemes) (0.7.0)\n",
      "Requirement already satisfied: wcwidth in /Users/joseph/opt/anaconda3/envs/dojo-env/lib/python3.9/site-packages (from prompt-toolkit<3.1.0,>3.0.1->ipython>=5.4.1->jupyterthemes) (0.2.5)\n",
      "Requirement already satisfied: six>=1.5 in /Users/joseph/opt/anaconda3/envs/dojo-env/lib/python3.9/site-packages (from python-dateutil>=2.7->matplotlib>=1.4.3->jupyterthemes) (1.16.0)\n",
      "Requirement already satisfied: argon2-cffi-bindings in /Users/joseph/opt/anaconda3/envs/dojo-env/lib/python3.9/site-packages (from argon2-cffi->notebook>=5.6.0->jupyterthemes) (21.2.0)\n",
      "Requirement already satisfied: debugpy>=1.0 in /Users/joseph/opt/anaconda3/envs/dojo-env/lib/python3.9/site-packages (from ipykernel->notebook>=5.6.0->jupyterthemes) (1.5.1)\n",
      "Requirement already satisfied: psutil in /Users/joseph/opt/anaconda3/envs/dojo-env/lib/python3.9/site-packages (from ipykernel->notebook>=5.6.0->jupyterthemes) (5.9.4)\n",
      "Requirement already satisfied: pure-eval in /Users/joseph/opt/anaconda3/envs/dojo-env/lib/python3.9/site-packages (from stack-data->ipython>=5.4.1->jupyterthemes) (0.2.2)\n",
      "Requirement already satisfied: asttokens in /Users/joseph/opt/anaconda3/envs/dojo-env/lib/python3.9/site-packages (from stack-data->ipython>=5.4.1->jupyterthemes) (2.0.5)\n",
      "Requirement already satisfied: executing in /Users/joseph/opt/anaconda3/envs/dojo-env/lib/python3.9/site-packages (from stack-data->ipython>=5.4.1->jupyterthemes) (0.8.3)\n",
      "Requirement already satisfied: attrs>=17.4.0 in /Users/joseph/opt/anaconda3/envs/dojo-env/lib/python3.9/site-packages (from jsonschema>=2.6->nbformat->notebook>=5.6.0->jupyterthemes) (22.1.0)\n",
      "Requirement already satisfied: pyrsistent!=0.17.0,!=0.17.1,!=0.17.2,>=0.14.0 in /Users/joseph/opt/anaconda3/envs/dojo-env/lib/python3.9/site-packages (from jsonschema>=2.6->nbformat->notebook>=5.6.0->jupyterthemes) (0.18.0)\n",
      "Requirement already satisfied: websocket-client in /Users/joseph/opt/anaconda3/envs/dojo-env/lib/python3.9/site-packages (from jupyter-server>=1.8->nbclassic>=0.4.7->notebook>=5.6.0->jupyterthemes) (0.58.0)\n",
      "Requirement already satisfied: anyio<4,>=3.1.0 in /Users/joseph/opt/anaconda3/envs/dojo-env/lib/python3.9/site-packages (from jupyter-server>=1.8->nbclassic>=0.4.7->notebook>=5.6.0->jupyterthemes) (3.5.0)\n",
      "Requirement already satisfied: cffi>=1.0.1 in /Users/joseph/opt/anaconda3/envs/dojo-env/lib/python3.9/site-packages (from argon2-cffi-bindings->argon2-cffi->notebook>=5.6.0->jupyterthemes) (1.15.1)\n",
      "Requirement already satisfied: soupsieve>1.2 in /Users/joseph/opt/anaconda3/envs/dojo-env/lib/python3.9/site-packages (from beautifulsoup4->nbconvert>=5->notebook>=5.6.0->jupyterthemes) (2.3.2.post1)\n",
      "Requirement already satisfied: webencodings in /Users/joseph/opt/anaconda3/envs/dojo-env/lib/python3.9/site-packages (from bleach->nbconvert>=5->notebook>=5.6.0->jupyterthemes) (0.5.1)\n",
      "Requirement already satisfied: sniffio>=1.1 in /Users/joseph/opt/anaconda3/envs/dojo-env/lib/python3.9/site-packages (from anyio<4,>=3.1.0->jupyter-server>=1.8->nbclassic>=0.4.7->notebook>=5.6.0->jupyterthemes) (1.2.0)\n",
      "Requirement already satisfied: idna>=2.8 in /Users/joseph/opt/anaconda3/envs/dojo-env/lib/python3.9/site-packages (from anyio<4,>=3.1.0->jupyter-server>=1.8->nbclassic>=0.4.7->notebook>=5.6.0->jupyterthemes) (3.4)\n",
      "Requirement already satisfied: pycparser in /Users/joseph/opt/anaconda3/envs/dojo-env/lib/python3.9/site-packages (from cffi>=1.0.1->argon2-cffi-bindings->argon2-cffi->notebook>=5.6.0->jupyterthemes) (2.21)\n"
     ]
    }
   ],
   "source": [
    "#Package for making themes like dark modeb\n",
    "!pip install jupyterthemes"
   ]
  },
  {
   "cell_type": "code",
   "execution_count": 2,
   "id": "d3cba8df",
   "metadata": {},
   "outputs": [],
   "source": [
    "#choosee the theme\n",
    "!jt -t chesterish\n",
    "\n",
    "#revert to default\n",
    "# ~jt - r # we run this to revert o default\n",
    "\n",
    "#available themes:\n",
    "#onedork | grade3 | oceans16 | chesterish |\n",
    "#monokai | solarizedl | solarizedd"
   ]
  },
  {
   "cell_type": "code",
   "execution_count": 3,
   "id": "379201de",
   "metadata": {},
   "outputs": [],
   "source": [
    "# Pandas and Numpy\n",
    "import numpy as np\n",
    "import pandas as pd\n",
    "\n",
    "# Plotting stuffb\n",
    "import matplotlib.pyplot as plt\n",
    "\n",
    "#Preprocessing SimpleImputer and Scaler for K-Means\n",
    "from sklearn.impute import SimpleImputer\n",
    "from sklearn.pipeline import make_pipeline\n",
    "from sklearn.preprocessing import StandardScaler\n",
    "\n",
    "#Kmeans\n",
    "from sklearn.cluster import KMeans\n",
    "from sklearn.metrics import silhouette_score"
   ]
  },
  {
   "cell_type": "markdown",
   "id": "fb054caa",
   "metadata": {},
   "source": [
    "## Load and inspect the data"
   ]
  },
  {
   "cell_type": "markdown",
   "id": "8f30ccb4",
   "metadata": {},
   "source": [
    "To add in a .csv/.xlsx file\n",
    "1. go to the library you're running\n",
    "1.  Hit \"upload\"\n",
    "    * ipsum\n",
    "1. Import the data you want to upload"
   ]
  },
  {
   "cell_type": "markdown",
   "id": "d00072ca",
   "metadata": {},
   "source": [
    "a^2 # how do we make this superlative"
   ]
  },
  {
   "cell_type": "markdown",
   "id": "f6f9161d",
   "metadata": {},
   "source": [
    "![This is an image](http://upload.wikimedia.org/wikipedia/commons/thumb/6/60/Neighbours_Siamese.jpg/640px-Neighbours_Siamese.jpg)"
   ]
  },
  {
   "cell_type": "code",
   "execution_count": 9,
   "id": "cf33635d",
   "metadata": {},
   "outputs": [
    {
     "ename": "SyntaxError",
     "evalue": "invalid syntax (2079527589.py, line 1)",
     "output_type": "error",
     "traceback": [
      "\u001b[0;36m  Cell \u001b[0;32mIn [9], line 1\u001b[0;36m\u001b[0m\n\u001b[0;31m    [ipsum](http://upload.wikimedia.org/wikipedia/commons/thumb/6/60/Neighbours_Siamese.jpg/640px-Neighbours_Siamese.jpg)\u001b[0m\n\u001b[0m                ^\u001b[0m\n\u001b[0;31mSyntaxError\u001b[0m\u001b[0;31m:\u001b[0m invalid syntax\n"
     ]
    }
   ],
   "source": [
    "[ipsum](http://upload.wikimedia.org/wikipedia/commons/thumb/6/60/Neighbours_Siamese.jpg/640px-Neighbours_Siamese.jpg)\n",
    "\n"
   ]
  },
  {
   "cell_type": "code",
   "execution_count": 5,
   "id": "547c6dd6",
   "metadata": {},
   "outputs": [
    {
     "data": {
      "text/html": [
       "<div>\n",
       "<style scoped>\n",
       "    .dataframe tbody tr th:only-of-type {\n",
       "        vertical-align: middle;\n",
       "    }\n",
       "\n",
       "    .dataframe tbody tr th {\n",
       "        vertical-align: top;\n",
       "    }\n",
       "\n",
       "    .dataframe thead th {\n",
       "        text-align: right;\n",
       "    }\n",
       "</style>\n",
       "<table border=\"1\" class=\"dataframe\">\n",
       "  <thead>\n",
       "    <tr style=\"text-align: right;\">\n",
       "      <th></th>\n",
       "      <th>Unnamed: 0</th>\n",
       "      <th>Customer Id</th>\n",
       "      <th>Age</th>\n",
       "      <th>Edu</th>\n",
       "      <th>Years Employed</th>\n",
       "      <th>Income</th>\n",
       "      <th>Card Debt</th>\n",
       "      <th>Other Debt</th>\n",
       "      <th>Defaulted</th>\n",
       "      <th>DebtIncomeRatio</th>\n",
       "    </tr>\n",
       "  </thead>\n",
       "  <tbody>\n",
       "    <tr>\n",
       "      <th>0</th>\n",
       "      <td>0</td>\n",
       "      <td>1</td>\n",
       "      <td>41</td>\n",
       "      <td>2</td>\n",
       "      <td>6</td>\n",
       "      <td>19</td>\n",
       "      <td>0.124</td>\n",
       "      <td>1.073</td>\n",
       "      <td>0.0</td>\n",
       "      <td>6.3</td>\n",
       "    </tr>\n",
       "    <tr>\n",
       "      <th>1</th>\n",
       "      <td>1</td>\n",
       "      <td>2</td>\n",
       "      <td>47</td>\n",
       "      <td>1</td>\n",
       "      <td>26</td>\n",
       "      <td>100</td>\n",
       "      <td>4.582</td>\n",
       "      <td>8.218</td>\n",
       "      <td>0.0</td>\n",
       "      <td>12.8</td>\n",
       "    </tr>\n",
       "    <tr>\n",
       "      <th>2</th>\n",
       "      <td>2</td>\n",
       "      <td>3</td>\n",
       "      <td>33</td>\n",
       "      <td>2</td>\n",
       "      <td>10</td>\n",
       "      <td>57</td>\n",
       "      <td>6.111</td>\n",
       "      <td>5.802</td>\n",
       "      <td>1.0</td>\n",
       "      <td>20.9</td>\n",
       "    </tr>\n",
       "    <tr>\n",
       "      <th>3</th>\n",
       "      <td>3</td>\n",
       "      <td>4</td>\n",
       "      <td>29</td>\n",
       "      <td>2</td>\n",
       "      <td>4</td>\n",
       "      <td>19</td>\n",
       "      <td>0.681</td>\n",
       "      <td>0.516</td>\n",
       "      <td>0.0</td>\n",
       "      <td>6.3</td>\n",
       "    </tr>\n",
       "    <tr>\n",
       "      <th>4</th>\n",
       "      <td>4</td>\n",
       "      <td>5</td>\n",
       "      <td>47</td>\n",
       "      <td>1</td>\n",
       "      <td>31</td>\n",
       "      <td>253</td>\n",
       "      <td>9.308</td>\n",
       "      <td>8.908</td>\n",
       "      <td>0.0</td>\n",
       "      <td>7.2</td>\n",
       "    </tr>\n",
       "  </tbody>\n",
       "</table>\n",
       "</div>"
      ],
      "text/plain": [
       "   Unnamed: 0  Customer Id  Age  Edu  Years Employed  Income  Card Debt  \\\n",
       "0           0            1   41    2               6      19      0.124   \n",
       "1           1            2   47    1              26     100      4.582   \n",
       "2           2            3   33    2              10      57      6.111   \n",
       "3           3            4   29    2               4      19      0.681   \n",
       "4           4            5   47    1              31     253      9.308   \n",
       "\n",
       "   Other Debt  Defaulted  DebtIncomeRatio  \n",
       "0       1.073        0.0              6.3  \n",
       "1       8.218        0.0             12.8  \n",
       "2       5.802        1.0             20.9  \n",
       "3       0.516        0.0              6.3  \n",
       "4       8.908        0.0              7.2  "
      ]
     },
     "execution_count": 5,
     "metadata": {},
     "output_type": "execute_result"
    }
   ],
   "source": [
    "## Load in Data\n",
    "filename = \"cust_seg.csv\"\n",
    "df = pd.read_csv(filename)\n",
    "df.head()"
   ]
  }
 ],
 "metadata": {
  "kernelspec": {
   "display_name": "Python (dojo-env)",
   "language": "python",
   "name": "dojo-env"
  },
  "language_info": {
   "codemirror_mode": {
    "name": "ipython",
    "version": 3
   },
   "file_extension": ".py",
   "mimetype": "text/x-python",
   "name": "python",
   "nbconvert_exporter": "python",
   "pygments_lexer": "ipython3",
   "version": "3.9.15"
  },
  "toc": {
   "base_numbering": 1,
   "nav_menu": {},
   "number_sections": false,
   "sideBar": true,
   "skip_h1_title": false,
   "title_cell": "Table of Contents",
   "title_sidebar": "Contents",
   "toc_cell": false,
   "toc_position": {},
   "toc_section_display": true,
   "toc_window_display": false
  }
 },
 "nbformat": 4,
 "nbformat_minor": 5
}
