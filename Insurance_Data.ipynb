{
 "cells": [
  {
   "cell_type": "markdown",
   "metadata": {
    "id": "T1IcDyUABf4J"
   },
   "source": [
    "# Insurance Data Starter Notebook"
   ]
  },
  {
   "cell_type": "markdown",
   "metadata": {
    "id": "pXugLG77Vxkn"
   },
   "source": [
    "Student Name:  Joseph Lim"
   ]
  },
  {
   "cell_type": "markdown",
   "metadata": {
    "id": "mE0YWDwKB2NO"
   },
   "source": [
    "## Table of Contents\n",
    "\n",
    "\n",
    "This notebook will be used for 4 practice assignments:\n",
    "- [📝 Loading Data (Practice)](#loading)\n",
    "- [📝 Slicing (Practice)](#slicing)\n",
    "- [📝 Filtering (Practice)](#filtering)\n",
    "\n",
    "\n",
    "Click on the assignment names above to jump to the corresponding headers on Google Colab.  \n",
    "\n",
    "\n",
    "\n",
    "___\n"
   ]
  },
  {
   "cell_type": "markdown",
   "metadata": {
    "id": "PqcysCiiEAyV"
   },
   "source": [
    "\n",
    "\n",
    "Note that:\n",
    "  - The first assignment (Loading Data) must be completed before the other three assignments may be completed.\n",
    "\n",
    "  - We recommend you do each of the remaining sections as you encounter them on the Learning Platform.\n"
   ]
  },
  {
   "cell_type": "markdown",
   "metadata": {
    "id": "UjugclH4W23V"
   },
   "source": [
    "<a name=\"loading\"> </a>\n",
    "# 📝 Loading Data (Practice)"
   ]
  },
  {
   "cell_type": "markdown",
   "metadata": {
    "id": "qDgRQYxzoBar"
   },
   "source": [
    "[Insurance Data](https://drive.google.com/file/d/1-7mcBguuzAV7JWVu2XCpgAO-fO6X2cl0/view?usp=sharing)"
   ]
  },
  {
   "cell_type": "markdown",
   "metadata": {
    "id": "aLWFGWLmiXIr"
   },
   "source": [
    "1) Open the link and save the shared file to your Drive in the week 2 data folder.\n",
    "\n",
    "2) Mount your drive\n",
    "\n",
    "3) Find and copy the file path of the insurance_mod.csv file"
   ]
  },
  {
   "cell_type": "code",
   "execution_count": 8,
   "metadata": {
    "colab": {
     "base_uri": "https://localhost:8080/"
    },
    "id": "3-92gLTPaady",
    "outputId": "82c31386-184b-442d-a95e-26472aacccfb"
   },
   "outputs": [
    {
     "name": "stdout",
     "output_type": "stream",
     "text": [
      "Mounted at /content/drive/\n"
     ]
    }
   ],
   "source": [
    "#Mounting Drive\n",
    "from google.colab import drive\n",
    "drive.mount('/content/drive/')"
   ]
  },
  {
   "cell_type": "code",
   "execution_count": 9,
   "metadata": {
    "id": "B4Nd1f22inKI"
   },
   "outputs": [],
   "source": [
    "# Save the copied file path as a variable\n",
    "# Surround the path with quotes\n",
    "filepath = \"/content/drive/MyDrive/Colab Notebooks/Fundamentals: 1/insurance_mod.csv\""
   ]
  },
  {
   "cell_type": "markdown",
   "metadata": {
    "id": "CL9KQmTNivB_"
   },
   "source": [
    "4) Load in the file as a Pandas dataframe named df_insurance\n"
   ]
  },
  {
   "cell_type": "code",
   "execution_count": 10,
   "metadata": {
    "id": "77yF6E-tVrN0"
   },
   "outputs": [],
   "source": [
    "# Include needed import(s)\n",
    "import pandas as pd\n",
    "import numpy as np\n",
    "\n",
    "# Load in the file as a Pandas dataframe named df_insurance\n",
    "df_insurance = pd.read_csv(filepath)"
   ]
  },
  {
   "cell_type": "markdown",
   "metadata": {
    "id": "xJ5WlpgdjWlU"
   },
   "source": [
    "5) Preview the first 5 rows with .head()\n",
    "\n"
   ]
  },
  {
   "cell_type": "code",
   "execution_count": 11,
   "metadata": {
    "colab": {
     "base_uri": "https://localhost:8080/",
     "height": 206
    },
    "id": "rvhk1biKjWFQ",
    "outputId": "a3a8f4bd-a900-4c42-d5cf-563bda77ff3b"
   },
   "outputs": [
    {
     "data": {
      "text/html": [
       "\n",
       "\n",
       "  <div id=\"df-ed876b4b-1f89-405b-86bf-bfe6410e63a7\">\n",
       "    <div class=\"colab-df-container\">\n",
       "      <div>\n",
       "<style scoped>\n",
       "    .dataframe tbody tr th:only-of-type {\n",
       "        vertical-align: middle;\n",
       "    }\n",
       "\n",
       "    .dataframe tbody tr th {\n",
       "        vertical-align: top;\n",
       "    }\n",
       "\n",
       "    .dataframe thead th {\n",
       "        text-align: right;\n",
       "    }\n",
       "</style>\n",
       "<table border=\"1\" class=\"dataframe\">\n",
       "  <thead>\n",
       "    <tr style=\"text-align: right;\">\n",
       "      <th></th>\n",
       "      <th>age</th>\n",
       "      <th>sex</th>\n",
       "      <th>bmi</th>\n",
       "      <th>children</th>\n",
       "      <th>smoker</th>\n",
       "      <th>region</th>\n",
       "      <th>charges</th>\n",
       "    </tr>\n",
       "  </thead>\n",
       "  <tbody>\n",
       "    <tr>\n",
       "      <th>0</th>\n",
       "      <td>19</td>\n",
       "      <td>female</td>\n",
       "      <td>27.900</td>\n",
       "      <td>0</td>\n",
       "      <td>1</td>\n",
       "      <td>southwest</td>\n",
       "      <td>16885.0</td>\n",
       "    </tr>\n",
       "    <tr>\n",
       "      <th>1</th>\n",
       "      <td>18</td>\n",
       "      <td>male</td>\n",
       "      <td>33.770</td>\n",
       "      <td>1</td>\n",
       "      <td>0</td>\n",
       "      <td>southeast</td>\n",
       "      <td>1726.0</td>\n",
       "    </tr>\n",
       "    <tr>\n",
       "      <th>2</th>\n",
       "      <td>28</td>\n",
       "      <td>male</td>\n",
       "      <td>33.000</td>\n",
       "      <td>3</td>\n",
       "      <td>0</td>\n",
       "      <td>southeast</td>\n",
       "      <td>4449.0</td>\n",
       "    </tr>\n",
       "    <tr>\n",
       "      <th>3</th>\n",
       "      <td>33</td>\n",
       "      <td>male</td>\n",
       "      <td>22.705</td>\n",
       "      <td>0</td>\n",
       "      <td>0</td>\n",
       "      <td>northwest</td>\n",
       "      <td>21984.0</td>\n",
       "    </tr>\n",
       "    <tr>\n",
       "      <th>4</th>\n",
       "      <td>32</td>\n",
       "      <td>male</td>\n",
       "      <td>28.880</td>\n",
       "      <td>0</td>\n",
       "      <td>0</td>\n",
       "      <td>northwest</td>\n",
       "      <td>3867.0</td>\n",
       "    </tr>\n",
       "  </tbody>\n",
       "</table>\n",
       "</div>\n",
       "      <button class=\"colab-df-convert\" onclick=\"convertToInteractive('df-ed876b4b-1f89-405b-86bf-bfe6410e63a7')\"\n",
       "              title=\"Convert this dataframe to an interactive table.\"\n",
       "              style=\"display:none;\">\n",
       "\n",
       "  <svg xmlns=\"http://www.w3.org/2000/svg\" height=\"24px\"viewBox=\"0 0 24 24\"\n",
       "       width=\"24px\">\n",
       "    <path d=\"M0 0h24v24H0V0z\" fill=\"none\"/>\n",
       "    <path d=\"M18.56 5.44l.94 2.06.94-2.06 2.06-.94-2.06-.94-.94-2.06-.94 2.06-2.06.94zm-11 1L8.5 8.5l.94-2.06 2.06-.94-2.06-.94L8.5 2.5l-.94 2.06-2.06.94zm10 10l.94 2.06.94-2.06 2.06-.94-2.06-.94-.94-2.06-.94 2.06-2.06.94z\"/><path d=\"M17.41 7.96l-1.37-1.37c-.4-.4-.92-.59-1.43-.59-.52 0-1.04.2-1.43.59L10.3 9.45l-7.72 7.72c-.78.78-.78 2.05 0 2.83L4 21.41c.39.39.9.59 1.41.59.51 0 1.02-.2 1.41-.59l7.78-7.78 2.81-2.81c.8-.78.8-2.07 0-2.86zM5.41 20L4 18.59l7.72-7.72 1.47 1.35L5.41 20z\"/>\n",
       "  </svg>\n",
       "      </button>\n",
       "\n",
       "\n",
       "\n",
       "    <div id=\"df-56ea6347-4a73-4a4f-b77f-bbd692b22731\">\n",
       "      <button class=\"colab-df-quickchart\" onclick=\"quickchart('df-56ea6347-4a73-4a4f-b77f-bbd692b22731')\"\n",
       "              title=\"Suggest charts.\"\n",
       "              style=\"display:none;\">\n",
       "\n",
       "<svg xmlns=\"http://www.w3.org/2000/svg\" height=\"24px\"viewBox=\"0 0 24 24\"\n",
       "     width=\"24px\">\n",
       "    <g>\n",
       "        <path d=\"M19 3H5c-1.1 0-2 .9-2 2v14c0 1.1.9 2 2 2h14c1.1 0 2-.9 2-2V5c0-1.1-.9-2-2-2zM9 17H7v-7h2v7zm4 0h-2V7h2v10zm4 0h-2v-4h2v4z\"/>\n",
       "    </g>\n",
       "</svg>\n",
       "      </button>\n",
       "    </div>\n",
       "\n",
       "<style>\n",
       "  .colab-df-quickchart {\n",
       "    background-color: #E8F0FE;\n",
       "    border: none;\n",
       "    border-radius: 50%;\n",
       "    cursor: pointer;\n",
       "    display: none;\n",
       "    fill: #1967D2;\n",
       "    height: 32px;\n",
       "    padding: 0 0 0 0;\n",
       "    width: 32px;\n",
       "  }\n",
       "\n",
       "  .colab-df-quickchart:hover {\n",
       "    background-color: #E2EBFA;\n",
       "    box-shadow: 0px 1px 2px rgba(60, 64, 67, 0.3), 0px 1px 3px 1px rgba(60, 64, 67, 0.15);\n",
       "    fill: #174EA6;\n",
       "  }\n",
       "\n",
       "  [theme=dark] .colab-df-quickchart {\n",
       "    background-color: #3B4455;\n",
       "    fill: #D2E3FC;\n",
       "  }\n",
       "\n",
       "  [theme=dark] .colab-df-quickchart:hover {\n",
       "    background-color: #434B5C;\n",
       "    box-shadow: 0px 1px 3px 1px rgba(0, 0, 0, 0.15);\n",
       "    filter: drop-shadow(0px 1px 2px rgba(0, 0, 0, 0.3));\n",
       "    fill: #FFFFFF;\n",
       "  }\n",
       "</style>\n",
       "\n",
       "    <script>\n",
       "      async function quickchart(key) {\n",
       "        const containerElement = document.querySelector('#' + key);\n",
       "        const charts = await google.colab.kernel.invokeFunction(\n",
       "            'suggestCharts', [key], {});\n",
       "      }\n",
       "    </script>\n",
       "\n",
       "      <script>\n",
       "\n",
       "function displayQuickchartButton(domScope) {\n",
       "  let quickchartButtonEl =\n",
       "    domScope.querySelector('#df-56ea6347-4a73-4a4f-b77f-bbd692b22731 button.colab-df-quickchart');\n",
       "  quickchartButtonEl.style.display =\n",
       "    google.colab.kernel.accessAllowed ? 'block' : 'none';\n",
       "}\n",
       "\n",
       "        displayQuickchartButton(document);\n",
       "      </script>\n",
       "      <style>\n",
       "    .colab-df-container {\n",
       "      display:flex;\n",
       "      flex-wrap:wrap;\n",
       "      gap: 12px;\n",
       "    }\n",
       "\n",
       "    .colab-df-convert {\n",
       "      background-color: #E8F0FE;\n",
       "      border: none;\n",
       "      border-radius: 50%;\n",
       "      cursor: pointer;\n",
       "      display: none;\n",
       "      fill: #1967D2;\n",
       "      height: 32px;\n",
       "      padding: 0 0 0 0;\n",
       "      width: 32px;\n",
       "    }\n",
       "\n",
       "    .colab-df-convert:hover {\n",
       "      background-color: #E2EBFA;\n",
       "      box-shadow: 0px 1px 2px rgba(60, 64, 67, 0.3), 0px 1px 3px 1px rgba(60, 64, 67, 0.15);\n",
       "      fill: #174EA6;\n",
       "    }\n",
       "\n",
       "    [theme=dark] .colab-df-convert {\n",
       "      background-color: #3B4455;\n",
       "      fill: #D2E3FC;\n",
       "    }\n",
       "\n",
       "    [theme=dark] .colab-df-convert:hover {\n",
       "      background-color: #434B5C;\n",
       "      box-shadow: 0px 1px 3px 1px rgba(0, 0, 0, 0.15);\n",
       "      filter: drop-shadow(0px 1px 2px rgba(0, 0, 0, 0.3));\n",
       "      fill: #FFFFFF;\n",
       "    }\n",
       "  </style>\n",
       "\n",
       "      <script>\n",
       "        const buttonEl =\n",
       "          document.querySelector('#df-ed876b4b-1f89-405b-86bf-bfe6410e63a7 button.colab-df-convert');\n",
       "        buttonEl.style.display =\n",
       "          google.colab.kernel.accessAllowed ? 'block' : 'none';\n",
       "\n",
       "        async function convertToInteractive(key) {\n",
       "          const element = document.querySelector('#df-ed876b4b-1f89-405b-86bf-bfe6410e63a7');\n",
       "          const dataTable =\n",
       "            await google.colab.kernel.invokeFunction('convertToInteractive',\n",
       "                                                     [key], {});\n",
       "          if (!dataTable) return;\n",
       "\n",
       "          const docLinkHtml = 'Like what you see? Visit the ' +\n",
       "            '<a target=\"_blank\" href=https://colab.research.google.com/notebooks/data_table.ipynb>data table notebook</a>'\n",
       "            + ' to learn more about interactive tables.';\n",
       "          element.innerHTML = '';\n",
       "          dataTable['output_type'] = 'display_data';\n",
       "          await google.colab.output.renderOutput(dataTable, element);\n",
       "          const docLink = document.createElement('div');\n",
       "          docLink.innerHTML = docLinkHtml;\n",
       "          element.appendChild(docLink);\n",
       "        }\n",
       "      </script>\n",
       "    </div>\n",
       "  </div>\n"
      ],
      "text/plain": [
       "   age     sex     bmi  children  smoker     region  charges\n",
       "0   19  female  27.900         0       1  southwest  16885.0\n",
       "1   18    male  33.770         1       0  southeast   1726.0\n",
       "2   28    male  33.000         3       0  southeast   4449.0\n",
       "3   33    male  22.705         0       0  northwest  21984.0\n",
       "4   32    male  28.880         0       0  northwest   3867.0"
      ]
     },
     "execution_count": 11,
     "metadata": {},
     "output_type": "execute_result"
    }
   ],
   "source": [
    "# Preview the first 5 rows with .head()\n",
    "df_insurance.head()"
   ]
  },
  {
   "cell_type": "markdown",
   "metadata": {
    "id": "QZ76WUV5jYA_"
   },
   "source": [
    "6) Preview the last 5 rows with .tail()"
   ]
  },
  {
   "cell_type": "code",
   "execution_count": 12,
   "metadata": {
    "colab": {
     "base_uri": "https://localhost:8080/",
     "height": 206
    },
    "id": "WnaNdM9yV74Q",
    "outputId": "af15d774-e5e2-4979-9634-118a736534d1"
   },
   "outputs": [
    {
     "data": {
      "text/html": [
       "\n",
       "\n",
       "  <div id=\"df-ebece7bf-d4ae-41fc-8e83-ce6450745be5\">\n",
       "    <div class=\"colab-df-container\">\n",
       "      <div>\n",
       "<style scoped>\n",
       "    .dataframe tbody tr th:only-of-type {\n",
       "        vertical-align: middle;\n",
       "    }\n",
       "\n",
       "    .dataframe tbody tr th {\n",
       "        vertical-align: top;\n",
       "    }\n",
       "\n",
       "    .dataframe thead th {\n",
       "        text-align: right;\n",
       "    }\n",
       "</style>\n",
       "<table border=\"1\" class=\"dataframe\">\n",
       "  <thead>\n",
       "    <tr style=\"text-align: right;\">\n",
       "      <th></th>\n",
       "      <th>age</th>\n",
       "      <th>sex</th>\n",
       "      <th>bmi</th>\n",
       "      <th>children</th>\n",
       "      <th>smoker</th>\n",
       "      <th>region</th>\n",
       "      <th>charges</th>\n",
       "    </tr>\n",
       "  </thead>\n",
       "  <tbody>\n",
       "    <tr>\n",
       "      <th>1333</th>\n",
       "      <td>50</td>\n",
       "      <td>male</td>\n",
       "      <td>30.97</td>\n",
       "      <td>3</td>\n",
       "      <td>0</td>\n",
       "      <td>northwest</td>\n",
       "      <td>10601.0</td>\n",
       "    </tr>\n",
       "    <tr>\n",
       "      <th>1334</th>\n",
       "      <td>18</td>\n",
       "      <td>female</td>\n",
       "      <td>31.92</td>\n",
       "      <td>0</td>\n",
       "      <td>0</td>\n",
       "      <td>northeast</td>\n",
       "      <td>2206.0</td>\n",
       "    </tr>\n",
       "    <tr>\n",
       "      <th>1335</th>\n",
       "      <td>18</td>\n",
       "      <td>female</td>\n",
       "      <td>36.85</td>\n",
       "      <td>0</td>\n",
       "      <td>0</td>\n",
       "      <td>southeast</td>\n",
       "      <td>1630.0</td>\n",
       "    </tr>\n",
       "    <tr>\n",
       "      <th>1336</th>\n",
       "      <td>21</td>\n",
       "      <td>female</td>\n",
       "      <td>25.80</td>\n",
       "      <td>0</td>\n",
       "      <td>0</td>\n",
       "      <td>southwest</td>\n",
       "      <td>2008.0</td>\n",
       "    </tr>\n",
       "    <tr>\n",
       "      <th>1337</th>\n",
       "      <td>61</td>\n",
       "      <td>female</td>\n",
       "      <td>29.07</td>\n",
       "      <td>0</td>\n",
       "      <td>1</td>\n",
       "      <td>northwest</td>\n",
       "      <td>29141.0</td>\n",
       "    </tr>\n",
       "  </tbody>\n",
       "</table>\n",
       "</div>\n",
       "      <button class=\"colab-df-convert\" onclick=\"convertToInteractive('df-ebece7bf-d4ae-41fc-8e83-ce6450745be5')\"\n",
       "              title=\"Convert this dataframe to an interactive table.\"\n",
       "              style=\"display:none;\">\n",
       "\n",
       "  <svg xmlns=\"http://www.w3.org/2000/svg\" height=\"24px\"viewBox=\"0 0 24 24\"\n",
       "       width=\"24px\">\n",
       "    <path d=\"M0 0h24v24H0V0z\" fill=\"none\"/>\n",
       "    <path d=\"M18.56 5.44l.94 2.06.94-2.06 2.06-.94-2.06-.94-.94-2.06-.94 2.06-2.06.94zm-11 1L8.5 8.5l.94-2.06 2.06-.94-2.06-.94L8.5 2.5l-.94 2.06-2.06.94zm10 10l.94 2.06.94-2.06 2.06-.94-2.06-.94-.94-2.06-.94 2.06-2.06.94z\"/><path d=\"M17.41 7.96l-1.37-1.37c-.4-.4-.92-.59-1.43-.59-.52 0-1.04.2-1.43.59L10.3 9.45l-7.72 7.72c-.78.78-.78 2.05 0 2.83L4 21.41c.39.39.9.59 1.41.59.51 0 1.02-.2 1.41-.59l7.78-7.78 2.81-2.81c.8-.78.8-2.07 0-2.86zM5.41 20L4 18.59l7.72-7.72 1.47 1.35L5.41 20z\"/>\n",
       "  </svg>\n",
       "      </button>\n",
       "\n",
       "\n",
       "\n",
       "    <div id=\"df-f9f45c36-5f77-40e4-8b54-c1b767da974f\">\n",
       "      <button class=\"colab-df-quickchart\" onclick=\"quickchart('df-f9f45c36-5f77-40e4-8b54-c1b767da974f')\"\n",
       "              title=\"Suggest charts.\"\n",
       "              style=\"display:none;\">\n",
       "\n",
       "<svg xmlns=\"http://www.w3.org/2000/svg\" height=\"24px\"viewBox=\"0 0 24 24\"\n",
       "     width=\"24px\">\n",
       "    <g>\n",
       "        <path d=\"M19 3H5c-1.1 0-2 .9-2 2v14c0 1.1.9 2 2 2h14c1.1 0 2-.9 2-2V5c0-1.1-.9-2-2-2zM9 17H7v-7h2v7zm4 0h-2V7h2v10zm4 0h-2v-4h2v4z\"/>\n",
       "    </g>\n",
       "</svg>\n",
       "      </button>\n",
       "    </div>\n",
       "\n",
       "<style>\n",
       "  .colab-df-quickchart {\n",
       "    background-color: #E8F0FE;\n",
       "    border: none;\n",
       "    border-radius: 50%;\n",
       "    cursor: pointer;\n",
       "    display: none;\n",
       "    fill: #1967D2;\n",
       "    height: 32px;\n",
       "    padding: 0 0 0 0;\n",
       "    width: 32px;\n",
       "  }\n",
       "\n",
       "  .colab-df-quickchart:hover {\n",
       "    background-color: #E2EBFA;\n",
       "    box-shadow: 0px 1px 2px rgba(60, 64, 67, 0.3), 0px 1px 3px 1px rgba(60, 64, 67, 0.15);\n",
       "    fill: #174EA6;\n",
       "  }\n",
       "\n",
       "  [theme=dark] .colab-df-quickchart {\n",
       "    background-color: #3B4455;\n",
       "    fill: #D2E3FC;\n",
       "  }\n",
       "\n",
       "  [theme=dark] .colab-df-quickchart:hover {\n",
       "    background-color: #434B5C;\n",
       "    box-shadow: 0px 1px 3px 1px rgba(0, 0, 0, 0.15);\n",
       "    filter: drop-shadow(0px 1px 2px rgba(0, 0, 0, 0.3));\n",
       "    fill: #FFFFFF;\n",
       "  }\n",
       "</style>\n",
       "\n",
       "    <script>\n",
       "      async function quickchart(key) {\n",
       "        const containerElement = document.querySelector('#' + key);\n",
       "        const charts = await google.colab.kernel.invokeFunction(\n",
       "            'suggestCharts', [key], {});\n",
       "      }\n",
       "    </script>\n",
       "\n",
       "      <script>\n",
       "\n",
       "function displayQuickchartButton(domScope) {\n",
       "  let quickchartButtonEl =\n",
       "    domScope.querySelector('#df-f9f45c36-5f77-40e4-8b54-c1b767da974f button.colab-df-quickchart');\n",
       "  quickchartButtonEl.style.display =\n",
       "    google.colab.kernel.accessAllowed ? 'block' : 'none';\n",
       "}\n",
       "\n",
       "        displayQuickchartButton(document);\n",
       "      </script>\n",
       "      <style>\n",
       "    .colab-df-container {\n",
       "      display:flex;\n",
       "      flex-wrap:wrap;\n",
       "      gap: 12px;\n",
       "    }\n",
       "\n",
       "    .colab-df-convert {\n",
       "      background-color: #E8F0FE;\n",
       "      border: none;\n",
       "      border-radius: 50%;\n",
       "      cursor: pointer;\n",
       "      display: none;\n",
       "      fill: #1967D2;\n",
       "      height: 32px;\n",
       "      padding: 0 0 0 0;\n",
       "      width: 32px;\n",
       "    }\n",
       "\n",
       "    .colab-df-convert:hover {\n",
       "      background-color: #E2EBFA;\n",
       "      box-shadow: 0px 1px 2px rgba(60, 64, 67, 0.3), 0px 1px 3px 1px rgba(60, 64, 67, 0.15);\n",
       "      fill: #174EA6;\n",
       "    }\n",
       "\n",
       "    [theme=dark] .colab-df-convert {\n",
       "      background-color: #3B4455;\n",
       "      fill: #D2E3FC;\n",
       "    }\n",
       "\n",
       "    [theme=dark] .colab-df-convert:hover {\n",
       "      background-color: #434B5C;\n",
       "      box-shadow: 0px 1px 3px 1px rgba(0, 0, 0, 0.15);\n",
       "      filter: drop-shadow(0px 1px 2px rgba(0, 0, 0, 0.3));\n",
       "      fill: #FFFFFF;\n",
       "    }\n",
       "  </style>\n",
       "\n",
       "      <script>\n",
       "        const buttonEl =\n",
       "          document.querySelector('#df-ebece7bf-d4ae-41fc-8e83-ce6450745be5 button.colab-df-convert');\n",
       "        buttonEl.style.display =\n",
       "          google.colab.kernel.accessAllowed ? 'block' : 'none';\n",
       "\n",
       "        async function convertToInteractive(key) {\n",
       "          const element = document.querySelector('#df-ebece7bf-d4ae-41fc-8e83-ce6450745be5');\n",
       "          const dataTable =\n",
       "            await google.colab.kernel.invokeFunction('convertToInteractive',\n",
       "                                                     [key], {});\n",
       "          if (!dataTable) return;\n",
       "\n",
       "          const docLinkHtml = 'Like what you see? Visit the ' +\n",
       "            '<a target=\"_blank\" href=https://colab.research.google.com/notebooks/data_table.ipynb>data table notebook</a>'\n",
       "            + ' to learn more about interactive tables.';\n",
       "          element.innerHTML = '';\n",
       "          dataTable['output_type'] = 'display_data';\n",
       "          await google.colab.output.renderOutput(dataTable, element);\n",
       "          const docLink = document.createElement('div');\n",
       "          docLink.innerHTML = docLinkHtml;\n",
       "          element.appendChild(docLink);\n",
       "        }\n",
       "      </script>\n",
       "    </div>\n",
       "  </div>\n"
      ],
      "text/plain": [
       "      age     sex    bmi  children  smoker     region  charges\n",
       "1333   50    male  30.97         3       0  northwest  10601.0\n",
       "1334   18  female  31.92         0       0  northeast   2206.0\n",
       "1335   18  female  36.85         0       0  southeast   1630.0\n",
       "1336   21  female  25.80         0       0  southwest   2008.0\n",
       "1337   61  female  29.07         0       1  northwest  29141.0"
      ]
     },
     "execution_count": 12,
     "metadata": {},
     "output_type": "execute_result"
    }
   ],
   "source": [
    "# Preview the last 5 rows with .tail()\n",
    "df_insurance.tail()"
   ]
  },
  {
   "cell_type": "markdown",
   "metadata": {
    "id": "FxsYQwwSjZ8r"
   },
   "source": [
    "7) Obtain summary information with .info()"
   ]
  },
  {
   "cell_type": "code",
   "execution_count": 13,
   "metadata": {
    "colab": {
     "base_uri": "https://localhost:8080/"
    },
    "id": "xFiUrJu0WACB",
    "outputId": "f8a9e70c-cbc0-412f-b914-5be1f41b44c4"
   },
   "outputs": [
    {
     "name": "stdout",
     "output_type": "stream",
     "text": [
      "<class 'pandas.core.frame.DataFrame'>\n",
      "RangeIndex: 1338 entries, 0 to 1337\n",
      "Data columns (total 7 columns):\n",
      " #   Column    Non-Null Count  Dtype  \n",
      "---  ------    --------------  -----  \n",
      " 0   age       1338 non-null   int64  \n",
      " 1   sex       1338 non-null   object \n",
      " 2   bmi       1338 non-null   float64\n",
      " 3   children  1338 non-null   int64  \n",
      " 4   smoker    1338 non-null   int64  \n",
      " 5   region    1338 non-null   object \n",
      " 6   charges   1338 non-null   float64\n",
      "dtypes: float64(2), int64(3), object(2)\n",
      "memory usage: 73.3+ KB\n"
     ]
    }
   ],
   "source": [
    "# Obtain summary information with .info()\n",
    "df_insurance.info()"
   ]
  },
  {
   "cell_type": "markdown",
   "metadata": {
    "id": "798aLos2WJzK"
   },
   "source": [
    "8) Use the output of .info() to answer the following in a text cell below:\n"
   ]
  },
  {
   "cell_type": "markdown",
   "metadata": {
    "id": "xWTIuXTzTj8x"
   },
   "source": [
    "\n",
    "\n",
    "a) How many rows are there?\n",
    "\n",
    "- There are 1338 rows\n",
    "\n",
    "b) How many columns are there?\n",
    "\n",
    "- Answer: There are 7 columns"
   ]
  },
  {
   "cell_type": "markdown",
   "metadata": {
    "id": "Gi_mvd9baMMB"
   },
   "source": [
    "## You have completed the \"Loading Data\" Practice Assignment.\n"
   ]
  },
  {
   "cell_type": "markdown",
   "metadata": {
    "id": "CzfZgH5FCV_p"
   },
   "source": [
    "\n",
    "- 🛑 Stop here.\n",
    "\n",
    "- 💾 Save and submit this notebook now.\n",
    "\n",
    "- 📚 Continue working through the lessons.\n",
    "\n",
    "- ⏎ Return to your copy of this notebook for the next practice assignment.\n",
    "\n",
    "___\n"
   ]
  },
  {
   "cell_type": "markdown",
   "metadata": {
    "id": "-0BYRDxkZ647"
   },
   "source": [
    "<a name=\"slicing\"> </a>\n",
    "# 📝 Slicing (Practice)\n"
   ]
  },
  {
   "cell_type": "markdown",
   "metadata": {
    "id": "rnwxMuiFkC_E"
   },
   "source": [
    "1) Slice the row for the customer at index 50 as a Series"
   ]
  },
  {
   "cell_type": "code",
   "execution_count": null,
   "metadata": {
    "id": "YmIAIxXwatOw"
   },
   "outputs": [],
   "source": [
    "# Use single brackets so the output is a Pandas Series\n",
    "df_insurance.loc[50]"
   ]
  },
  {
   "cell_type": "markdown",
   "metadata": {
    "id": "mOuJWr8CkFBC"
   },
   "source": [
    "2) Slice the row for the customer at index 50 as a DataFrame"
   ]
  },
  {
   "cell_type": "code",
   "execution_count": null,
   "metadata": {
    "id": "chdwrj7ma1II"
   },
   "outputs": [],
   "source": [
    "# Use double brackets so the output is a Pandas Dataframe\n",
    "df_insurance.loc[[50]]"
   ]
  },
  {
   "cell_type": "markdown",
   "metadata": {
    "id": "Mw0_dDHakG9Q"
   },
   "source": [
    "3) Find out if the customer at index 20 was a male or female (by slicing index 20 and column \"Sex\")"
   ]
  },
  {
   "cell_type": "code",
   "execution_count": null,
   "metadata": {
    "id": "ezn_6d8pa3gc"
   },
   "outputs": [],
   "source": [
    "# find out if the customer at index 20 was a male or female by slicing index 20 and column \"Sex\"\n",
    "df_insurance.loc[50, \"sex\"]"
   ]
  },
  {
   "cell_type": "markdown",
   "metadata": {
    "id": "EXvN0rBKkJcV"
   },
   "source": [
    "4) Slice the entire smoker column using square brackets\n"
   ]
  },
  {
   "cell_type": "code",
   "execution_count": null,
   "metadata": {
    "id": "WIcK2scJa7JX"
   },
   "outputs": [],
   "source": [
    "# Slice the entire smoker column using square brackets\n",
    "df_insurance[\"smoker\"]"
   ]
  },
  {
   "cell_type": "markdown",
   "metadata": {
    "id": "-C4qqYeDkKsl"
   },
   "source": [
    "5) Slice the entire smoker column using .loc\n"
   ]
  },
  {
   "cell_type": "code",
   "execution_count": null,
   "metadata": {
    "id": "MzzXeAkXa8Ef"
   },
   "outputs": [],
   "source": [
    "# Slice the entire smoker column using .loc\n",
    "df_insurance.loc[:,\"smoker\"]"
   ]
  },
  {
   "cell_type": "markdown",
   "metadata": {
    "id": "Jo74xe0YkMBu"
   },
   "source": [
    "6) Slice the entire smoker column using either method, but this time save it as a variable called \"smoker\"\n"
   ]
  },
  {
   "cell_type": "code",
   "execution_count": null,
   "metadata": {
    "id": "VNe-_UlNa-MJ"
   },
   "outputs": [],
   "source": [
    "# Slice the entire smoker column using either method, but this time save it as a variable called \"smoker\"\n",
    "smoker = df_insurance.loc[:,\"smoker\"]"
   ]
  },
  {
   "cell_type": "markdown",
   "metadata": {
    "id": "YPFzfIG2T_cG"
   },
   "source": [
    "\n",
    "- Calculate the sum of the smoker variable to see how many of the customers smoke\n"
   ]
  },
  {
   "cell_type": "code",
   "execution_count": null,
   "metadata": {
    "id": "sA5h3uQtbA0R"
   },
   "outputs": [],
   "source": [
    "# To see how many of the customers smoke, get the sum\n",
    "smoker.sum()"
   ]
  },
  {
   "cell_type": "markdown",
   "metadata": {
    "id": "chMBAVijUC5u"
   },
   "source": [
    "\n",
    "- Calculate the mean of the smoker variable using .mean() to see the ratio of smokers in the dataset\n"
   ]
  },
  {
   "cell_type": "code",
   "execution_count": null,
   "metadata": {
    "id": "dP66L49-bDvK"
   },
   "outputs": [],
   "source": [
    "# To get the ratio use .mean()\n",
    "smoker.mean()"
   ]
  },
  {
   "cell_type": "markdown",
   "metadata": {
    "id": "g1SxhQQlbH3G"
   },
   "source": [
    "## You have completed the \"Slicing Data\" Practice Assignment.\n"
   ]
  },
  {
   "cell_type": "markdown",
   "metadata": {
    "id": "H2My6yS-CqDn"
   },
   "source": [
    "\n",
    "- 🛑 Stop here.\n",
    "\n",
    "- 💾 Save and submit this notebook now.\n",
    "\n",
    "- 📚 Continue working through the lessons.\n",
    "\n",
    "- ⏎ Return to your copy of this notebook for the next practice assignment.\n",
    "\n",
    "___\n"
   ]
  },
  {
   "cell_type": "markdown",
   "metadata": {
    "id": "1kZSt4JBbUvJ"
   },
   "source": [
    "<a name=\"filtering\"> </a>\n",
    "# 📝 Filtering (Practice)"
   ]
  },
  {
   "cell_type": "markdown",
   "metadata": {
    "id": "ETcSxqoHkS7J"
   },
   "source": [
    "1) Create a filter variable called under_30_filter for rows where the age is less than 30\n",
    "\n"
   ]
  },
  {
   "cell_type": "code",
   "execution_count": null,
   "metadata": {
    "id": "8EksQ1JqbaZe"
   },
   "outputs": [],
   "source": [
    "# Create a filter called under_30_filter for the rows where the age is less than 30\n"
   ]
  },
  {
   "cell_type": "code",
   "execution_count": null,
   "metadata": {
    "id": "ELLpUQyJbbXV"
   },
   "outputs": [],
   "source": [
    "# View the under_30_filter to see the boolean index\n"
   ]
  },
  {
   "cell_type": "code",
   "execution_count": null,
   "metadata": {
    "id": "-Fr6jUXybdor"
   },
   "outputs": [],
   "source": [
    "# Get the sum of the true values for the under_30_filter\n",
    "# This is the number of customers who are under the age of 30\n"
   ]
  },
  {
   "cell_type": "code",
   "execution_count": null,
   "metadata": {
    "id": "XJjOoY7Vbh48"
   },
   "outputs": [],
   "source": [
    "# # Use the filter to view only rows with customers who are under 30\n"
   ]
  },
  {
   "cell_type": "markdown",
   "metadata": {
    "id": "i3PbBi4ukWbP"
   },
   "source": [
    "2) Create a filter for males"
   ]
  },
  {
   "cell_type": "code",
   "execution_count": null,
   "metadata": {
    "id": "s1wh8K3MblUl"
   },
   "outputs": [],
   "source": [
    "# Create a filter for males called male_filter\n"
   ]
  },
  {
   "cell_type": "code",
   "execution_count": null,
   "metadata": {
    "id": "iNKD4dS9bnHc"
   },
   "outputs": [],
   "source": [
    "# View the filter to see the boolean index\n"
   ]
  },
  {
   "cell_type": "code",
   "execution_count": null,
   "metadata": {
    "id": "HElHAEdebo80"
   },
   "outputs": [],
   "source": [
    "# Obtain the sum of True values in the male_filter\n",
    "# This is the number of customers who are male\n"
   ]
  },
  {
   "cell_type": "code",
   "execution_count": null,
   "metadata": {
    "id": "3uRQf_x0bq0-"
   },
   "outputs": [],
   "source": [
    "# Use the filter to view only rows with customers who are male\n"
   ]
  },
  {
   "cell_type": "markdown",
   "metadata": {
    "id": "3xvUrbGQkYhj"
   },
   "source": [
    "3) Combine the under_30_filter and the male_filter to create a single filter called under_30_male_filter"
   ]
  },
  {
   "cell_type": "code",
   "execution_count": null,
   "metadata": {
    "id": "XrEEVhxgbta0"
   },
   "outputs": [],
   "source": [
    "# Combine the under_30_filter and the male_filter to create a single filter called under_30_male_filter\n"
   ]
  },
  {
   "cell_type": "code",
   "execution_count": null,
   "metadata": {
    "id": "1qQ7mYIjbvXa"
   },
   "outputs": [],
   "source": [
    "# Display the boolean index of the under_30_male_filter\n"
   ]
  },
  {
   "cell_type": "code",
   "execution_count": null,
   "metadata": {
    "id": "imt3cZI2bxfZ"
   },
   "outputs": [],
   "source": [
    "# Get the sum of the under_30_male_filter True values\n",
    "# This is the number of customers who are both under 30 and male\n"
   ]
  },
  {
   "cell_type": "code",
   "execution_count": null,
   "metadata": {
    "id": "g4Ke9si1b0np"
   },
   "outputs": [],
   "source": [
    "# Use the filter to view only rows with customers who are both under 30 and male\n"
   ]
  },
  {
   "cell_type": "markdown",
   "metadata": {
    "id": "SXBbjI0RkayT"
   },
   "source": [
    "4) Create a filter for regions that contain south using .str.contains\n",
    "\n"
   ]
  },
  {
   "cell_type": "code",
   "execution_count": null,
   "metadata": {
    "id": "U9EWVxwOb2wz"
   },
   "outputs": [],
   "source": [
    "# Create a filter for regions that contain south using .str.contains\n"
   ]
  },
  {
   "cell_type": "code",
   "execution_count": null,
   "metadata": {
    "id": "cIDjCtbcb443"
   },
   "outputs": [],
   "source": [
    "# Use the filter to view only rows with regions containing \"south\"\n"
   ]
  },
  {
   "cell_type": "markdown",
   "metadata": {
    "id": "h4yZ6LECb7Mj"
   },
   "source": [
    "## You have completed the \"Filtering Data\" Practice Assignment.\n"
   ]
  },
  {
   "cell_type": "markdown",
   "metadata": {
    "id": "MSpvBNFACtor"
   },
   "source": [
    "\n",
    "- 🛑 Stop here.\n",
    "\n",
    "- 💾 Save and submit this notebook now.\n",
    "\n",
    "- 📚 Continue working through the lessons.\n",
    "\n",
    "- ⏎ Return to your copy of this notebook for the next practice assignment.\n",
    "\n",
    "___\n"
   ]
  }
 ],
 "metadata": {
  "colab": {
   "provenance": []
  },
  "kernelspec": {
   "display_name": "Python 3 (ipykernel)",
   "language": "python",
   "name": "python3"
  },
  "language_info": {
   "codemirror_mode": {
    "name": "ipython",
    "version": 3
   },
   "file_extension": ".py",
   "mimetype": "text/x-python",
   "name": "python",
   "nbconvert_exporter": "python",
   "pygments_lexer": "ipython3",
   "version": "3.9.15"
  },
  "toc": {
   "base_numbering": 1,
   "nav_menu": {},
   "number_sections": false,
   "sideBar": true,
   "skip_h1_title": false,
   "title_cell": "Table of Contents",
   "title_sidebar": "Contents",
   "toc_cell": false,
   "toc_position": {},
   "toc_section_display": true,
   "toc_window_display": false
  }
 },
 "nbformat": 4,
 "nbformat_minor": 1
}
