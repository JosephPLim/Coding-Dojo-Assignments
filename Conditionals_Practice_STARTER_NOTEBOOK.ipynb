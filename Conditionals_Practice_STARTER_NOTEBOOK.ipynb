{
  "nbformat": 4,
  "nbformat_minor": 0,
  "metadata": {
    "colab": {
      "provenance": []
    },
    "kernelspec": {
      "name": "python3",
      "display_name": "Python 3"
    },
    "language_info": {
      "name": "python"
    }
  },
  "cells": [
    {
      "cell_type": "markdown",
      "source": [
        "# Conditionals in Python\n",
        "## Student - Joseph Lim\n",
        "\n",
        "This is one of the first practice (non-required) assignments for Coding Dojo's Data Science bootcamp. It is given during the first week of the first stack, and is intended to be used to ease students into getting familiar with the Google Colab environment. The purpose of this notebook is to ease students into getting familiar with the Google Colab environment ,as well as with conditional statements in Python, such as if, else, and elsif\n",
        "\n",
        "Specifically, this notebook was taken as a copy of the starter notebook, which is provided to students."
      ],
      "metadata": {
        "id": "0ThdumLVMoVH"
      }
    },
    {
      "cell_type": "markdown",
      "source": [
        "\n",
        "|   Syntax  | Behavior                                                             |                   Example 1            |Example 2|\n",
        "|-----|--------------------------------------------------------------------------------------------|-------------------------------|------------------------------|\n",
        "| ==  | Checks if the value of two operands are equal                                              | `1 == 1` (True)                 | `1 == 2`  (False)              |\n",
        "| !=  | Checks if the value of two operands are not equal                                          | `1 != 1` (False)                | `1 != 2`  (True)               |\n",
        "| >   | Checks if the value of left operand is greater than the value of right operand             | `2 > 1` (True)                  | `1 > 2` (False)                |\n",
        "| <   | Checks if the value of left operand is less than the value of right operand                | `2 < 1 `(False)                 | `1 < 2` (True)                 |\n",
        "| >=  | Checks if the value of left operand is greater than or equal to the value of right operand | `2 >= 2` (True)                 | `1 >= 2` (False)               |\n",
        "| <=  | Checks if the value of left operand is less than or equal to the value of right operand    | `2 <= 2` (True)                 | `1 <= 2` (True)                |\n",
        "| & | Checks that each expression on the left and right are **both** areTrue                            | `(1 <= 2) & (2 >= 3)` (False) | `(1 <= 2) & (2 <= 3)` (True) |\n",
        "| \\|  | Checks if **either** the expression on the left or right is True                               | `(1 >= 2) \\| (2 >= 3)` (False)  | `(1 <= 2) \\| (2 >= 3)` (True)  |\n",
        "| ~ | Reverses the true-false value of the operand                                               | `~ False` (True)              | `~ True` (False)             |\n",
        "\n",
        "\n"
      ],
      "metadata": {
        "id": "1V__E87vk1AY"
      }
    },
    {
      "cell_type": "markdown",
      "source": [
        "# `if` Statements\n",
        "\n",
        "`if`, `else`, and `elif` have 2 parts.  The condition and the action.\n",
        "\n",
        "The condition part comes first and is followed by a `:`\n",
        "\n",
        "\n",
        "For example:\n",
        "`if name == 'Jane Doe':`\n",
        "\n",
        "The action comes next and is indented.\n",
        "\n",
        "For example:\n",
        "\n"
      ],
      "metadata": {
        "id": "VRnZ_3jvQS6v"
      }
    },
    {
      "cell_type": "code",
      "source": [
        "name = 'Jane Doe'\n",
        "\n",
        "if name == 'Jane Doe': # Notice the double == is for comparison\n",
        "\n",
        "  print('Hello, Jane!')"
      ],
      "metadata": {
        "id": "2_ILT24eSegP",
        "colab": {
          "base_uri": "https://localhost:8080/"
        },
        "outputId": "d9c21ccb-1dc7-4c96-c48e-de1a9934e27c"
      },
      "execution_count": 1,
      "outputs": [
        {
          "output_type": "stream",
          "name": "stdout",
          "text": [
            "Hello, Jane!\n"
          ]
        }
      ]
    },
    {
      "cell_type": "markdown",
      "source": [
        "## 💪 Your Turn\n",
        "\n",
        "Use an `if` statement to write code that returns 'Welcome back again!' if `number_of_visits` is greater than 1.\n",
        "\n",
        "When you are done, change the value of `number_of_visits` to make sure your code is working correctly."
      ],
      "metadata": {
        "id": "FOF3PbBPRhlA"
      }
    },
    {
      "cell_type": "code",
      "execution_count": 2,
      "metadata": {
        "id": "59msXkFYMayq",
        "colab": {
          "base_uri": "https://localhost:8080/"
        },
        "outputId": "d39b57cc-42db-4999-83b6-299ae636f38b"
      },
      "outputs": [
        {
          "output_type": "stream",
          "name": "stdout",
          "text": [
            "Welcome back again!\n"
          ]
        }
      ],
      "source": [
        "number_of_visits = 2\n",
        "# Your code here\n",
        "if number_of_visits > 1:\n",
        "  print(\"Welcome back again!\")"
      ]
    },
    {
      "cell_type": "markdown",
      "source": [
        "# `else` Statements\n",
        "\n",
        "You can combine `else` with your `if` to have an alternate action trigger if the `if` statement evaluates to `False`.  \n",
        "\n",
        "Try changing the value of `temperature` below to see how it changes the output of the code.\n",
        "\n",
        "Notice that we use double quotes around \"Don't forget a jacket!\" because we have an apostrophe (single quote) in Don't.  "
      ],
      "metadata": {
        "id": "EcOPQl4USbT3"
      }
    },
    {
      "cell_type": "code",
      "source": [
        "temperature = 65\n",
        "\n",
        "if temperature > 60:\n",
        "  print('Enjoy the nice weather')\n",
        "else:\n",
        "  print(\"Don't forget a jacket!\")"
      ],
      "metadata": {
        "id": "wIep6opEUOjO",
        "colab": {
          "base_uri": "https://localhost:8080/"
        },
        "outputId": "9aa5ef5d-bd8a-4d54-c68b-cc26fa05cb70"
      },
      "execution_count": 3,
      "outputs": [
        {
          "output_type": "stream",
          "name": "stdout",
          "text": [
            "Enjoy the nice weather\n"
          ]
        }
      ]
    },
    {
      "cell_type": "markdown",
      "source": [
        "## 💪 Your Turn\n",
        "\n",
        "Write code that:\n",
        "\n",
        "- Prints 'Don't forget an umbrella' if `raining == True`\n",
        "\n",
        "- and otherwise prints 'Enjoy the nice weather!'\n",
        "\n",
        "Try changing the value of `raining` to test your code\n",
        "\n",
        "Make sure to use double quotes around \"Don't forget an umbrella!\" because we have an apostrophe (single quote) in Don't.  "
      ],
      "metadata": {
        "id": "6TEmtYI7VFug"
      }
    },
    {
      "cell_type": "code",
      "source": [
        "raining = True\n",
        "\n",
        "# Your Code here\n",
        "if raining == True:\n",
        "  print(\"Don't forget an umbrella\")\n",
        "else:\n",
        "  print(\"Enjoy the nice weather!\")"
      ],
      "metadata": {
        "id": "kRsHCRhadpxm",
        "colab": {
          "base_uri": "https://localhost:8080/"
        },
        "outputId": "aacb5cfa-d85f-44f1-fd57-b9ee3ea8006e"
      },
      "execution_count": 4,
      "outputs": [
        {
          "output_type": "stream",
          "name": "stdout",
          "text": [
            "Don't forget an umbrella\n"
          ]
        }
      ]
    },
    {
      "cell_type": "code",
      "source": [
        "raining = False\n",
        "\n",
        "# Your Code here\n",
        "if raining == True:\n",
        "  print(\"Don't forget an umbrella\")\n",
        "else:\n",
        "  print(\"Enjoy the nice weather!\")"
      ],
      "metadata": {
        "colab": {
          "base_uri": "https://localhost:8080/"
        },
        "id": "gKZXr7X4jUQF",
        "outputId": "a8c00237-97b1-4a4e-bf79-5e3655d6fe42"
      },
      "execution_count": 5,
      "outputs": [
        {
          "output_type": "stream",
          "name": "stdout",
          "text": [
            "Enjoy the nice weather!\n"
          ]
        }
      ]
    },
    {
      "cell_type": "markdown",
      "source": [
        "# `elif` Statements\n",
        "\n",
        "`elif` is short for else-if.  This lets you have multiple mutually exclusive clauses in your conditional code.  This means only one of the blocks of code will run, unlike if you use multiple if statements.\n",
        "\n",
        "Notice that below, even if it's raining and cold, the code will only print \"Don't forget a jacket\".  \n",
        "\n",
        "- Try changing the values of `raining` and `temperature` to see how the output changes.\n",
        "\n",
        "- Try changing the `elif` statement to an `if` statement and see how the output changes."
      ],
      "metadata": {
        "id": "c_dr3QamUxvB"
      }
    },
    {
      "cell_type": "code",
      "source": [
        "raining = True\n",
        "temperature = 55\n",
        "\n",
        "if temperature < 60:\n",
        "  print(\"Don't forget a Jacket\")\n",
        "elif raining == True:\n",
        "  print(\"Don't forget an umbrella\")\n",
        "else:\n",
        "  print('Enjoy the beautiful weather!')"
      ],
      "metadata": {
        "id": "E4LNTiVxUpmu",
        "colab": {
          "base_uri": "https://localhost:8080/"
        },
        "outputId": "c110f917-763b-4ebc-ecd3-08fbf71adad9"
      },
      "execution_count": 6,
      "outputs": [
        {
          "output_type": "stream",
          "name": "stdout",
          "text": [
            "Don't forget a Jacket\n"
          ]
        }
      ]
    },
    {
      "cell_type": "markdown",
      "source": [
        "## 💪 Your Turn\n",
        "\n",
        "Write a block of code that uses `elif` to:\n",
        "\n",
        "- prints 'It was a dark and stormy night' if `weather == 'stormy'`\n",
        "- or else if moon = 'full', it prints 'It was a bright night'\n",
        "- of if neither of those are true, prints 'It was a dark night'\n",
        "\n",
        "\n",
        "*Try changing the values for `weather` and `moon` to be certain your code is working as expected.*"
      ],
      "metadata": {
        "id": "UVZjBTcbgGsu"
      }
    },
    {
      "cell_type": "code",
      "source": [
        "weather = 'stormy'\n",
        "moon = 'full'\n",
        "\n",
        "# Your Code Here\n",
        "if weather == \"stormy\":\n",
        "  print(\"It was a dark and stormy night\")\n",
        "elif moon == \"full\":\n",
        "  print(\"It was a bright night\")\n",
        "else:\n",
        "  print(\"It was a dark night\")"
      ],
      "metadata": {
        "id": "meMRswurfghm",
        "colab": {
          "base_uri": "https://localhost:8080/"
        },
        "outputId": "9699c75b-45a6-4825-918d-5fb7f5f13e42"
      },
      "execution_count": 7,
      "outputs": [
        {
          "output_type": "stream",
          "name": "stdout",
          "text": [
            "It was a dark and stormy night\n"
          ]
        }
      ]
    },
    {
      "cell_type": "code",
      "source": [
        "weather = 'clear'\n",
        "moon = 'full'\n",
        "\n",
        "# Your Code Here\n",
        "if weather == \"stormy\":\n",
        "  print(\"It was a dark and stormy night\")\n",
        "elif moon == \"full\":\n",
        "  print(\"It was a bright night\")\n",
        "else:\n",
        "  print(\"It was a dark night\")"
      ],
      "metadata": {
        "colab": {
          "base_uri": "https://localhost:8080/"
        },
        "id": "_lXk5MDdkUIL",
        "outputId": "72a19a26-31df-4acb-d1e7-984d5a22abe9"
      },
      "execution_count": 8,
      "outputs": [
        {
          "output_type": "stream",
          "name": "stdout",
          "text": [
            "It was a bright night\n"
          ]
        }
      ]
    },
    {
      "cell_type": "code",
      "source": [
        "weather = 'clear'\n",
        "moon = 'new'\n",
        "\n",
        "# Your Code Here\n",
        "if weather == \"stormy\":\n",
        "  print(\"IT was a dark and stormy night\")\n",
        "elif moon == \"full\":\n",
        "  print(\"It was a bright night\")\n",
        "else:\n",
        "  print(\"It was a dark night\")"
      ],
      "metadata": {
        "colab": {
          "base_uri": "https://localhost:8080/"
        },
        "id": "Tflxv6-jkWSb",
        "outputId": "26d98fbf-bc1b-489b-9a27-3137628bd852"
      },
      "execution_count": 9,
      "outputs": [
        {
          "output_type": "stream",
          "name": "stdout",
          "text": [
            "It was a dark night\n"
          ]
        }
      ]
    },
    {
      "cell_type": "markdown",
      "source": [
        "# Nested Conditional Statements\n",
        "\n",
        "In order to test multiple conditions, we can put conditional statements inside other conditionals.  This is called 'nesting' and is a common way to create more complex behavior in code that depends on many conditions.\n",
        "\n",
        "In order to control the behavior, make careful use of indentation.  Any statements indented under another statement will only trigger if the statement above them evaluates to `True`.  Any `else` statements need to match the same indentation as the `if` statements they belong to.\n",
        "\n",
        "The below code will:\n",
        "\n",
        "Check if the `time == 'night'` and if so will check if `temperature <= 60` and if that also evaluates as `True`, then it will print \"It's cold and dark outside.\"."
      ],
      "metadata": {
        "id": "EnPdxsuvkKF2"
      }
    },
    {
      "cell_type": "code",
      "source": [
        "temperature = 55\n",
        "time = 'night'\n",
        "\n",
        "\n",
        "if time == 'night':\n",
        "  if temperature < 60:\n",
        "    print(\"It's cold and dark outside.\")"
      ],
      "metadata": {
        "colab": {
          "base_uri": "https://localhost:8080/"
        },
        "id": "xdEmVk-zklTl",
        "outputId": "a56bed3b-2c7e-45c4-eff7-1c746937c8b8"
      },
      "execution_count": 10,
      "outputs": [
        {
          "output_type": "stream",
          "name": "stdout",
          "text": [
            "It's cold and dark outside.\n"
          ]
        }
      ]
    },
    {
      "cell_type": "markdown",
      "source": [
        "We can make the behavior even more complex by adding `else` statements.  Remember that an `else` statement's indentation must match the `if` statement is refers to.  \n",
        "\n",
        "Try changing `time` and `weather` to see how the behavior of the code changes.  Try to match up the `if` and `else` statements in the code to understand why."
      ],
      "metadata": {
        "id": "0hQJV0FQoYNs"
      }
    },
    {
      "cell_type": "code",
      "source": [
        "time = 'night'\n",
        "weather = 'stormy'\n",
        "\n",
        "\n",
        "if time == 'night':\n",
        "\n",
        "  if weather == 'stormy':\n",
        "    print(\"Its a stormy night. You'll want a flashlight and umbrella.\")\n",
        "\n",
        "  else:\n",
        "    print(\"It's a beautiful night. You'll want your flashlight.\")\n",
        "\n",
        "\n",
        "elif time == 'day':\n",
        "\n",
        "  if weather == 'stormy':\n",
        "    print(\"Its a stormy day. You'll want your umbrella.\")\n",
        "\n",
        "  else:\n",
        "    print(\"Its a nice & sunnay day. You'll want sunglasses and sunscreen.\")\n",
        "\n",
        "else:\n",
        "  print('I can only provide recommendations during the day or at night.')"
      ],
      "metadata": {
        "colab": {
          "base_uri": "https://localhost:8080/"
        },
        "id": "TLmWhAXhl8jm",
        "outputId": "42ec41c2-353b-4742-90d2-04d1adb4e720"
      },
      "execution_count": 11,
      "outputs": [
        {
          "output_type": "stream",
          "name": "stdout",
          "text": [
            "Its a stormy night. You'll want a flashlight and umbrella.\n"
          ]
        }
      ]
    },
    {
      "cell_type": "markdown",
      "source": [
        "## 💪 Your Turn\n",
        "\n",
        "Create a block of code with nested conditions to produce one of 4 outcomes:\n",
        "\n",
        "- It is cold and rainy.\n",
        "\n",
        "- It is cold and sunny.\n",
        "\n",
        "- It is warm and rainy.\n",
        "\n",
        "- It is warm and sunny.\n",
        "\n",
        "Your code should output descriptions of a day that is:\n",
        "* warmer or cooler than 60 (fahrenheit, which is about 15.5 celsius)\n",
        "* rainy or sunny\n",
        "\n"
      ],
      "metadata": {
        "id": "ODT7qWj8ohX5"
      }
    },
    {
      "cell_type": "code",
      "source": [
        "temperature = 80\n",
        "weather = 'rainy'\n",
        "\n",
        "# Your Code Here\n",
        "if temperature < 60:\n",
        "  if weather == \"sunny\":\n",
        "    print(\"It is cold and sunny.\")\n",
        "  else:\n",
        "    print(\"It is cold and rainy.\")\n",
        "else:\n",
        "  if weather == \"sunny\":\n",
        "    print(\"It is warm and sunny.\")\n",
        "  else:\n",
        "    print(\"It is warm and rainy.\")"
      ],
      "metadata": {
        "id": "vQghSCtCoLWH",
        "colab": {
          "base_uri": "https://localhost:8080/"
        },
        "outputId": "68f87ea3-3e7f-48a3-8ba4-b6917db568ed"
      },
      "execution_count": 12,
      "outputs": [
        {
          "output_type": "stream",
          "name": "stdout",
          "text": [
            "It is warm and rainy.\n"
          ]
        }
      ]
    },
    {
      "cell_type": "code",
      "source": [
        "temperature = 40\n",
        "weather = 'rainy'\n",
        "\n",
        "# Your Code Here\n",
        "if temperature < 60:\n",
        "  if weather == \"sunny\":\n",
        "    print(\"It is cold and sunny.\")\n",
        "  else:\n",
        "    print(\"It is cold and rainy.\")\n",
        "else:\n",
        "  if weather == \"sunny\":\n",
        "    print(\"It is warm and sunny.\")\n",
        "  else:\n",
        "    print(\"It is warm and rainy.\")"
      ],
      "metadata": {
        "colab": {
          "base_uri": "https://localhost:8080/"
        },
        "id": "lc5tLHOWnQPw",
        "outputId": "af1b93da-847d-4466-ec9a-bf9fc8882dd9"
      },
      "execution_count": 13,
      "outputs": [
        {
          "output_type": "stream",
          "name": "stdout",
          "text": [
            "It is cold and rainy.\n"
          ]
        }
      ]
    },
    {
      "cell_type": "code",
      "source": [
        "temperature = 40\n",
        "weather = 'sunny'\n",
        "\n",
        "# Your Code Here\n",
        "if temperature < 60:\n",
        "  if weather == \"sunny\":\n",
        "    print(\"It is cold and sunny.\")\n",
        "  else:\n",
        "    print(\"It is cold and rainy.\")\n",
        "else:\n",
        "  if weather == \"sunny\":\n",
        "    print(\"It is warm and sunny.\")\n",
        "  else:\n",
        "    print(\"It is warm and rainy.\")"
      ],
      "metadata": {
        "colab": {
          "base_uri": "https://localhost:8080/"
        },
        "id": "UeKG96slnslF",
        "outputId": "278e2e05-3b9e-4fc4-ccb3-7321197172e1"
      },
      "execution_count": 14,
      "outputs": [
        {
          "output_type": "stream",
          "name": "stdout",
          "text": [
            "It is cold and sunny.\n"
          ]
        }
      ]
    },
    {
      "cell_type": "code",
      "source": [
        "temperature = 80\n",
        "weather = 'sunny'\n",
        "\n",
        "# Your Code Here\n",
        "if temperature < 60:\n",
        "  if weather == \"sunny\":\n",
        "    print(\"It is cold and sunny.\")\n",
        "  else:\n",
        "    print(\"It is cold and rainy.\")\n",
        "else:\n",
        "  if weather == \"sunny\":\n",
        "    print(\"It is warm and sunny.\")\n",
        "  else:\n",
        "    print(\"It is warm and rainy.\")"
      ],
      "metadata": {
        "colab": {
          "base_uri": "https://localhost:8080/"
        },
        "id": "Fd5JSbqmnsrL",
        "outputId": "74c05b4b-02ca-433b-a0da-e30ec11d2c3e"
      },
      "execution_count": 15,
      "outputs": [
        {
          "output_type": "stream",
          "name": "stdout",
          "text": [
            "It is warm and sunny.\n"
          ]
        }
      ]
    },
    {
      "cell_type": "markdown",
      "source": [
        "# and (`&`)/ or (`|`)\n",
        "\n"
      ],
      "metadata": {
        "id": "EXAItuEupmxA"
      }
    },
    {
      "cell_type": "markdown",
      "source": [
        "You can combine or alter conditions using the `&` and `|` operators.\n",
        "\n",
        "## and (&)\n",
        "* A conditional statement with an `&` between two other conditional statements ONLY returns `True` if **BOTH** conditions are`True`.  \n",
        "\n",
        "\n",
        "Run the code below to see an example."
      ],
      "metadata": {
        "id": "xQqOd0NsdKA0"
      }
    },
    {
      "cell_type": "markdown",
      "source": [
        "Try changing the value of `a` below to see how the resulting output changes."
      ],
      "metadata": {
        "id": "JKsIAoX9e6aO"
      }
    },
    {
      "cell_type": "code",
      "source": [
        "# Declare a\n",
        "a = 3\n",
        "\n",
        "# Test if a is more than 2 and less than 5\n",
        "if (a > 2) & (a < 5):\n",
        "  print('a is between 2 and 5')\n",
        "else:\n",
        "  print('a is not between 2 and 5')"
      ],
      "metadata": {
        "colab": {
          "base_uri": "https://localhost:8080/"
        },
        "id": "df16hDdZedJc",
        "outputId": "256ffcc3-2140-426f-d587-cabb24ace969"
      },
      "execution_count": 16,
      "outputs": [
        {
          "output_type": "stream",
          "name": "stdout",
          "text": [
            "a is between 2 and 5\n"
          ]
        }
      ]
    },
    {
      "cell_type": "markdown",
      "source": [
        "## 💪 Your Turn\n",
        "\n",
        "Write a block of code that tests whether a `c` is greater than 100 and less than 1000.\n",
        "\n",
        "Try changing the value of `c` to be\n",
        "* 50 (to test a value less than 100),\n",
        "* 1001 (to test a value greater than 1000)\n",
        "\n",
        "to ensure your code is working correctly."
      ],
      "metadata": {
        "id": "eMpA1Td6ginU"
      }
    },
    {
      "cell_type": "code",
      "source": [
        "c = 999\n",
        "\n",
        "# your code here\n",
        "if (c < 100) & (c < 1000):\n",
        "  print(\"c is between 100 and 1000\")\n",
        "else:\n",
        "  print(\"c is not between 100 and 1000\")\n",
        "\n",
        "c = 50\n",
        "if (c < 100) & (c < 1000):\n",
        "  print(\"c is between 100 and 1000\")\n",
        "else:\n",
        "  print(\"c is not between 100 and 1000\")\n",
        "\n",
        "c = 1001\n",
        "if (c < 100) & (c < 1000):\n",
        "  print(\"c is between 100 and 1000\")\n",
        "else:\n",
        "  print(\"c is not between 100 and 1000\")\n"
      ],
      "metadata": {
        "id": "vaAKdD2gpJzH",
        "colab": {
          "base_uri": "https://localhost:8080/"
        },
        "outputId": "8b0ab02c-9d9e-4a90-d13d-cdcb6a7a0f4e"
      },
      "execution_count": 17,
      "outputs": [
        {
          "output_type": "stream",
          "name": "stdout",
          "text": [
            "c is not between 100 and 1000\n",
            "c is between 100 and 1000\n",
            "c is not between 100 and 1000\n"
          ]
        }
      ]
    },
    {
      "cell_type": "markdown",
      "source": [
        "\n",
        "## or (`|`)\n",
        "* A conditional statement with an `|` between two other conditional statements returns `True` if **EITHER** of the conditions are `True`.  It only returns `False` if both conditions are 'False'\n"
      ],
      "metadata": {
        "id": "1NXOOxETeLet"
      }
    },
    {
      "cell_type": "markdown",
      "source": [
        "Try changing the value of `b` to see how the output changes."
      ],
      "metadata": {
        "id": "m_bVRS2xfRDj"
      }
    },
    {
      "cell_type": "code",
      "source": [
        "# Declare b\n",
        "b = 7\n",
        "\n",
        "# Test if be is less than or equal to 2 or more than or equal to 5\n",
        "if (b <= 2) | (b >= 5):\n",
        "  print('b is not between 2 and 5')\n",
        "else:\n",
        "  print('be is between 2 and 5')"
      ],
      "metadata": {
        "colab": {
          "base_uri": "https://localhost:8080/"
        },
        "id": "J6vwTd0wfRfE",
        "outputId": "c0bfb619-c7b1-4ebc-d647-b12094bd45ff"
      },
      "execution_count": 18,
      "outputs": [
        {
          "output_type": "stream",
          "name": "stdout",
          "text": [
            "b is not between 2 and 5\n"
          ]
        }
      ]
    },
    {
      "cell_type": "markdown",
      "source": [
        "## 💪 Your Turn\n",
        "\n",
        "Write a block of code that tests whether `d` is greater than 1000 or exactly equal to 100.\n",
        "\n",
        "Try changing the value of `d` to be\n",
        "* 100 (to test the d equals 100)\n",
        "* 5000 (to test d greater than 1000)\n",
        "\n",
        "to ensure your code is working correctly."
      ],
      "metadata": {
        "id": "5URjXuyQptx-"
      }
    },
    {
      "cell_type": "code",
      "source": [
        "d = 500\n",
        "# your code here\n",
        "if (d > 1000) | (d == 100):\n",
        "  print(\"d is either >1000 or equal to 100\")\n",
        "else:\n",
        "  print(\"d is less than 1000 and not equal to 100\")\n",
        "\n",
        "d = 100\n",
        "if (d > 1000) | (d == 100):\n",
        "  print(\"d is either >1000 or equal to 100\")\n",
        "else:\n",
        "  print(\"d is less than 1000 and not equal to 100\")\n",
        "\n",
        "d = 5000\n",
        "if (d > 1000) | (d == 100):\n",
        "  print(\"d is either >1000 or equal to 100\")\n",
        "else:\n",
        "  print(\"d is less than 1000 and not equal to 100\")"
      ],
      "metadata": {
        "id": "Gwf4rG8k7Wj2",
        "colab": {
          "base_uri": "https://localhost:8080/"
        },
        "outputId": "8ac9aebb-384f-4b34-f92f-e7d59f047d53"
      },
      "execution_count": 19,
      "outputs": [
        {
          "output_type": "stream",
          "name": "stdout",
          "text": [
            "d is less than 1000 and not equal to 100\n",
            "d is either >1000 or equal to 100\n",
            "d is either >1000 or equal to 100\n"
          ]
        }
      ]
    },
    {
      "cell_type": "markdown",
      "source": [
        "# Summary\n",
        "\n",
        "Condtional statements using a variety of conditional operators will return `True` or `False` boolean objects.  Python programmers can use `if`, `elif` and `else` to change the behavior of their code depending on the truth value of these conditional statements.  `and`/ `or`keywords can be used to modify and combine conditional statements to create even more complex behavior in code."
      ],
      "metadata": {
        "id": "OvlyO6L-q3Zw"
      }
    }
  ]
}